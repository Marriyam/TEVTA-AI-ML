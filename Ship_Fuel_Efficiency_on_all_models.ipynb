{
  "nbformat": 4,
  "nbformat_minor": 0,
  "metadata": {
    "colab": {
      "provenance": [],
      "authorship_tag": "ABX9TyP77pzOEJQ/Gw5NlnRHZmWj",
      "include_colab_link": true
    },
    "kernelspec": {
      "name": "python3",
      "display_name": "Python 3"
    },
    "language_info": {
      "name": "python"
    }
  },
  "cells": [
    {
      "cell_type": "markdown",
      "metadata": {
        "id": "view-in-github",
        "colab_type": "text"
      },
      "source": [
        "<a href=\"https://colab.research.google.com/github/Marriyam/TEVTA-AI-ML/blob/main/Ship_Fuel_Efficiency_on_all_models.ipynb\" target=\"_parent\"><img src=\"https://colab.research.google.com/assets/colab-badge.svg\" alt=\"Open In Colab\"/></a>"
      ]
    },
    {
      "cell_type": "markdown",
      "source": [
        "###Keeping \"Engine Efficiency\" as Terget feature gave bad results on very model"
      ],
      "metadata": {
        "id": "zl5O9WzQ8sSO"
      }
    },
    {
      "cell_type": "code",
      "source": [
        "import pandas as pd\n",
        "from sklearn.model_selection import train_test_split\n",
        "from sklearn.preprocessing import LabelEncoder\n",
        "from sklearn.linear_model import LinearRegression\n",
        "from sklearn.metrics import mean_squared_error, r2_score\n",
        "from matplotlib import pyplot as plt\n",
        "from sklearn.preprocessing import StandardScaler\n",
        "from sklearn.neighbors import KNeighborsRegressor\n",
        "from sklearn.preprocessing import PolynomialFeatures\n",
        "from sklearn.datasets import make_regression\n",
        "from scipy.interpolate import RBFInterpolator\n"
      ],
      "metadata": {
        "id": "0gMKcuVbzoPZ"
      },
      "execution_count": null,
      "outputs": []
    },
    {
      "cell_type": "code",
      "execution_count": null,
      "metadata": {
        "colab": {
          "base_uri": "https://localhost:8080/",
          "height": 365
        },
        "id": "2qJm_3Xew_RC",
        "outputId": "70716878-e713-4020-ea34-fbbb783b9916"
      },
      "outputs": [
        {
          "output_type": "execute_result",
          "data": {
            "text/plain": [
              "  ship_id         ship_type             route_id     month  distance  \\\n",
              "0   NG001  Oil Service Boat          Warri-Bonny   January    132.26   \n",
              "1   NG001  Oil Service Boat  Port Harcourt-Lagos  February    128.52   \n",
              "2   NG001  Oil Service Boat  Port Harcourt-Lagos     March     67.30   \n",
              "3   NG001  Oil Service Boat  Port Harcourt-Lagos     April     71.68   \n",
              "4   NG001  Oil Service Boat          Lagos-Apapa       May    134.32   \n",
              "\n",
              "  fuel_type  fuel_consumption  CO2_emissions weather_conditions  \\\n",
              "0       HFO           3779.77       10625.76             Stormy   \n",
              "1       HFO           4461.44       12779.73           Moderate   \n",
              "2       HFO           1867.73        5353.01               Calm   \n",
              "3    Diesel           2393.51        6506.52             Stormy   \n",
              "4       HFO           4267.19       11617.03               Calm   \n",
              "\n",
              "   engine_efficiency  \n",
              "0              92.14  \n",
              "1              92.98  \n",
              "2              87.61  \n",
              "3              87.42  \n",
              "4              85.61  "
            ],
            "text/html": [
              "\n",
              "  <div id=\"df-44bba702-a76b-48ba-a1e0-cddf60546fac\" class=\"colab-df-container\">\n",
              "    <div>\n",
              "<style scoped>\n",
              "    .dataframe tbody tr th:only-of-type {\n",
              "        vertical-align: middle;\n",
              "    }\n",
              "\n",
              "    .dataframe tbody tr th {\n",
              "        vertical-align: top;\n",
              "    }\n",
              "\n",
              "    .dataframe thead th {\n",
              "        text-align: right;\n",
              "    }\n",
              "</style>\n",
              "<table border=\"1\" class=\"dataframe\">\n",
              "  <thead>\n",
              "    <tr style=\"text-align: right;\">\n",
              "      <th></th>\n",
              "      <th>ship_id</th>\n",
              "      <th>ship_type</th>\n",
              "      <th>route_id</th>\n",
              "      <th>month</th>\n",
              "      <th>distance</th>\n",
              "      <th>fuel_type</th>\n",
              "      <th>fuel_consumption</th>\n",
              "      <th>CO2_emissions</th>\n",
              "      <th>weather_conditions</th>\n",
              "      <th>engine_efficiency</th>\n",
              "    </tr>\n",
              "  </thead>\n",
              "  <tbody>\n",
              "    <tr>\n",
              "      <th>0</th>\n",
              "      <td>NG001</td>\n",
              "      <td>Oil Service Boat</td>\n",
              "      <td>Warri-Bonny</td>\n",
              "      <td>January</td>\n",
              "      <td>132.26</td>\n",
              "      <td>HFO</td>\n",
              "      <td>3779.77</td>\n",
              "      <td>10625.76</td>\n",
              "      <td>Stormy</td>\n",
              "      <td>92.14</td>\n",
              "    </tr>\n",
              "    <tr>\n",
              "      <th>1</th>\n",
              "      <td>NG001</td>\n",
              "      <td>Oil Service Boat</td>\n",
              "      <td>Port Harcourt-Lagos</td>\n",
              "      <td>February</td>\n",
              "      <td>128.52</td>\n",
              "      <td>HFO</td>\n",
              "      <td>4461.44</td>\n",
              "      <td>12779.73</td>\n",
              "      <td>Moderate</td>\n",
              "      <td>92.98</td>\n",
              "    </tr>\n",
              "    <tr>\n",
              "      <th>2</th>\n",
              "      <td>NG001</td>\n",
              "      <td>Oil Service Boat</td>\n",
              "      <td>Port Harcourt-Lagos</td>\n",
              "      <td>March</td>\n",
              "      <td>67.30</td>\n",
              "      <td>HFO</td>\n",
              "      <td>1867.73</td>\n",
              "      <td>5353.01</td>\n",
              "      <td>Calm</td>\n",
              "      <td>87.61</td>\n",
              "    </tr>\n",
              "    <tr>\n",
              "      <th>3</th>\n",
              "      <td>NG001</td>\n",
              "      <td>Oil Service Boat</td>\n",
              "      <td>Port Harcourt-Lagos</td>\n",
              "      <td>April</td>\n",
              "      <td>71.68</td>\n",
              "      <td>Diesel</td>\n",
              "      <td>2393.51</td>\n",
              "      <td>6506.52</td>\n",
              "      <td>Stormy</td>\n",
              "      <td>87.42</td>\n",
              "    </tr>\n",
              "    <tr>\n",
              "      <th>4</th>\n",
              "      <td>NG001</td>\n",
              "      <td>Oil Service Boat</td>\n",
              "      <td>Lagos-Apapa</td>\n",
              "      <td>May</td>\n",
              "      <td>134.32</td>\n",
              "      <td>HFO</td>\n",
              "      <td>4267.19</td>\n",
              "      <td>11617.03</td>\n",
              "      <td>Calm</td>\n",
              "      <td>85.61</td>\n",
              "    </tr>\n",
              "  </tbody>\n",
              "</table>\n",
              "</div>\n",
              "    <div class=\"colab-df-buttons\">\n",
              "\n",
              "  <div class=\"colab-df-container\">\n",
              "    <button class=\"colab-df-convert\" onclick=\"convertToInteractive('df-44bba702-a76b-48ba-a1e0-cddf60546fac')\"\n",
              "            title=\"Convert this dataframe to an interactive table.\"\n",
              "            style=\"display:none;\">\n",
              "\n",
              "  <svg xmlns=\"http://www.w3.org/2000/svg\" height=\"24px\" viewBox=\"0 -960 960 960\">\n",
              "    <path d=\"M120-120v-720h720v720H120Zm60-500h600v-160H180v160Zm220 220h160v-160H400v160Zm0 220h160v-160H400v160ZM180-400h160v-160H180v160Zm440 0h160v-160H620v160ZM180-180h160v-160H180v160Zm440 0h160v-160H620v160Z\"/>\n",
              "  </svg>\n",
              "    </button>\n",
              "\n",
              "  <style>\n",
              "    .colab-df-container {\n",
              "      display:flex;\n",
              "      gap: 12px;\n",
              "    }\n",
              "\n",
              "    .colab-df-convert {\n",
              "      background-color: #E8F0FE;\n",
              "      border: none;\n",
              "      border-radius: 50%;\n",
              "      cursor: pointer;\n",
              "      display: none;\n",
              "      fill: #1967D2;\n",
              "      height: 32px;\n",
              "      padding: 0 0 0 0;\n",
              "      width: 32px;\n",
              "    }\n",
              "\n",
              "    .colab-df-convert:hover {\n",
              "      background-color: #E2EBFA;\n",
              "      box-shadow: 0px 1px 2px rgba(60, 64, 67, 0.3), 0px 1px 3px 1px rgba(60, 64, 67, 0.15);\n",
              "      fill: #174EA6;\n",
              "    }\n",
              "\n",
              "    .colab-df-buttons div {\n",
              "      margin-bottom: 4px;\n",
              "    }\n",
              "\n",
              "    [theme=dark] .colab-df-convert {\n",
              "      background-color: #3B4455;\n",
              "      fill: #D2E3FC;\n",
              "    }\n",
              "\n",
              "    [theme=dark] .colab-df-convert:hover {\n",
              "      background-color: #434B5C;\n",
              "      box-shadow: 0px 1px 3px 1px rgba(0, 0, 0, 0.15);\n",
              "      filter: drop-shadow(0px 1px 2px rgba(0, 0, 0, 0.3));\n",
              "      fill: #FFFFFF;\n",
              "    }\n",
              "  </style>\n",
              "\n",
              "    <script>\n",
              "      const buttonEl =\n",
              "        document.querySelector('#df-44bba702-a76b-48ba-a1e0-cddf60546fac button.colab-df-convert');\n",
              "      buttonEl.style.display =\n",
              "        google.colab.kernel.accessAllowed ? 'block' : 'none';\n",
              "\n",
              "      async function convertToInteractive(key) {\n",
              "        const element = document.querySelector('#df-44bba702-a76b-48ba-a1e0-cddf60546fac');\n",
              "        const dataTable =\n",
              "          await google.colab.kernel.invokeFunction('convertToInteractive',\n",
              "                                                    [key], {});\n",
              "        if (!dataTable) return;\n",
              "\n",
              "        const docLinkHtml = 'Like what you see? Visit the ' +\n",
              "          '<a target=\"_blank\" href=https://colab.research.google.com/notebooks/data_table.ipynb>data table notebook</a>'\n",
              "          + ' to learn more about interactive tables.';\n",
              "        element.innerHTML = '';\n",
              "        dataTable['output_type'] = 'display_data';\n",
              "        await google.colab.output.renderOutput(dataTable, element);\n",
              "        const docLink = document.createElement('div');\n",
              "        docLink.innerHTML = docLinkHtml;\n",
              "        element.appendChild(docLink);\n",
              "      }\n",
              "    </script>\n",
              "  </div>\n",
              "\n",
              "\n",
              "<div id=\"df-70a8a3f6-b377-4fe2-a34f-ddc90a7e9c47\">\n",
              "  <button class=\"colab-df-quickchart\" onclick=\"quickchart('df-70a8a3f6-b377-4fe2-a34f-ddc90a7e9c47')\"\n",
              "            title=\"Suggest charts\"\n",
              "            style=\"display:none;\">\n",
              "\n",
              "<svg xmlns=\"http://www.w3.org/2000/svg\" height=\"24px\"viewBox=\"0 0 24 24\"\n",
              "     width=\"24px\">\n",
              "    <g>\n",
              "        <path d=\"M19 3H5c-1.1 0-2 .9-2 2v14c0 1.1.9 2 2 2h14c1.1 0 2-.9 2-2V5c0-1.1-.9-2-2-2zM9 17H7v-7h2v7zm4 0h-2V7h2v10zm4 0h-2v-4h2v4z\"/>\n",
              "    </g>\n",
              "</svg>\n",
              "  </button>\n",
              "\n",
              "<style>\n",
              "  .colab-df-quickchart {\n",
              "      --bg-color: #E8F0FE;\n",
              "      --fill-color: #1967D2;\n",
              "      --hover-bg-color: #E2EBFA;\n",
              "      --hover-fill-color: #174EA6;\n",
              "      --disabled-fill-color: #AAA;\n",
              "      --disabled-bg-color: #DDD;\n",
              "  }\n",
              "\n",
              "  [theme=dark] .colab-df-quickchart {\n",
              "      --bg-color: #3B4455;\n",
              "      --fill-color: #D2E3FC;\n",
              "      --hover-bg-color: #434B5C;\n",
              "      --hover-fill-color: #FFFFFF;\n",
              "      --disabled-bg-color: #3B4455;\n",
              "      --disabled-fill-color: #666;\n",
              "  }\n",
              "\n",
              "  .colab-df-quickchart {\n",
              "    background-color: var(--bg-color);\n",
              "    border: none;\n",
              "    border-radius: 50%;\n",
              "    cursor: pointer;\n",
              "    display: none;\n",
              "    fill: var(--fill-color);\n",
              "    height: 32px;\n",
              "    padding: 0;\n",
              "    width: 32px;\n",
              "  }\n",
              "\n",
              "  .colab-df-quickchart:hover {\n",
              "    background-color: var(--hover-bg-color);\n",
              "    box-shadow: 0 1px 2px rgba(60, 64, 67, 0.3), 0 1px 3px 1px rgba(60, 64, 67, 0.15);\n",
              "    fill: var(--button-hover-fill-color);\n",
              "  }\n",
              "\n",
              "  .colab-df-quickchart-complete:disabled,\n",
              "  .colab-df-quickchart-complete:disabled:hover {\n",
              "    background-color: var(--disabled-bg-color);\n",
              "    fill: var(--disabled-fill-color);\n",
              "    box-shadow: none;\n",
              "  }\n",
              "\n",
              "  .colab-df-spinner {\n",
              "    border: 2px solid var(--fill-color);\n",
              "    border-color: transparent;\n",
              "    border-bottom-color: var(--fill-color);\n",
              "    animation:\n",
              "      spin 1s steps(1) infinite;\n",
              "  }\n",
              "\n",
              "  @keyframes spin {\n",
              "    0% {\n",
              "      border-color: transparent;\n",
              "      border-bottom-color: var(--fill-color);\n",
              "      border-left-color: var(--fill-color);\n",
              "    }\n",
              "    20% {\n",
              "      border-color: transparent;\n",
              "      border-left-color: var(--fill-color);\n",
              "      border-top-color: var(--fill-color);\n",
              "    }\n",
              "    30% {\n",
              "      border-color: transparent;\n",
              "      border-left-color: var(--fill-color);\n",
              "      border-top-color: var(--fill-color);\n",
              "      border-right-color: var(--fill-color);\n",
              "    }\n",
              "    40% {\n",
              "      border-color: transparent;\n",
              "      border-right-color: var(--fill-color);\n",
              "      border-top-color: var(--fill-color);\n",
              "    }\n",
              "    60% {\n",
              "      border-color: transparent;\n",
              "      border-right-color: var(--fill-color);\n",
              "    }\n",
              "    80% {\n",
              "      border-color: transparent;\n",
              "      border-right-color: var(--fill-color);\n",
              "      border-bottom-color: var(--fill-color);\n",
              "    }\n",
              "    90% {\n",
              "      border-color: transparent;\n",
              "      border-bottom-color: var(--fill-color);\n",
              "    }\n",
              "  }\n",
              "</style>\n",
              "\n",
              "  <script>\n",
              "    async function quickchart(key) {\n",
              "      const quickchartButtonEl =\n",
              "        document.querySelector('#' + key + ' button');\n",
              "      quickchartButtonEl.disabled = true;  // To prevent multiple clicks.\n",
              "      quickchartButtonEl.classList.add('colab-df-spinner');\n",
              "      try {\n",
              "        const charts = await google.colab.kernel.invokeFunction(\n",
              "            'suggestCharts', [key], {});\n",
              "      } catch (error) {\n",
              "        console.error('Error during call to suggestCharts:', error);\n",
              "      }\n",
              "      quickchartButtonEl.classList.remove('colab-df-spinner');\n",
              "      quickchartButtonEl.classList.add('colab-df-quickchart-complete');\n",
              "    }\n",
              "    (() => {\n",
              "      let quickchartButtonEl =\n",
              "        document.querySelector('#df-70a8a3f6-b377-4fe2-a34f-ddc90a7e9c47 button');\n",
              "      quickchartButtonEl.style.display =\n",
              "        google.colab.kernel.accessAllowed ? 'block' : 'none';\n",
              "    })();\n",
              "  </script>\n",
              "</div>\n",
              "\n",
              "    </div>\n",
              "  </div>\n"
            ],
            "application/vnd.google.colaboratory.intrinsic+json": {
              "type": "dataframe",
              "variable_name": "data",
              "summary": "{\n  \"name\": \"data\",\n  \"rows\": 1440,\n  \"fields\": [\n    {\n      \"column\": \"ship_id\",\n      \"properties\": {\n        \"dtype\": \"category\",\n        \"num_unique_values\": 120,\n        \"samples\": [\n          \"NG045\",\n          \"NG048\",\n          \"NG005\"\n        ],\n        \"semantic_type\": \"\",\n        \"description\": \"\"\n      }\n    },\n    {\n      \"column\": \"ship_type\",\n      \"properties\": {\n        \"dtype\": \"category\",\n        \"num_unique_values\": 4,\n        \"samples\": [\n          \"Fishing Trawler\",\n          \"Tanker Ship\",\n          \"Oil Service Boat\"\n        ],\n        \"semantic_type\": \"\",\n        \"description\": \"\"\n      }\n    },\n    {\n      \"column\": \"route_id\",\n      \"properties\": {\n        \"dtype\": \"category\",\n        \"num_unique_values\": 4,\n        \"samples\": [\n          \"Port Harcourt-Lagos\",\n          \"Escravos-Lagos\",\n          \"Warri-Bonny\"\n        ],\n        \"semantic_type\": \"\",\n        \"description\": \"\"\n      }\n    },\n    {\n      \"column\": \"month\",\n      \"properties\": {\n        \"dtype\": \"category\",\n        \"num_unique_values\": 12,\n        \"samples\": [\n          \"November\",\n          \"October\",\n          \"January\"\n        ],\n        \"semantic_type\": \"\",\n        \"description\": \"\"\n      }\n    },\n    {\n      \"column\": \"distance\",\n      \"properties\": {\n        \"dtype\": \"number\",\n        \"std\": 108.47222953325979,\n        \"min\": 20.08,\n        \"max\": 498.55,\n        \"num_unique_values\": 1398,\n        \"samples\": [\n          46.21,\n          83.88,\n          142.02\n        ],\n        \"semantic_type\": \"\",\n        \"description\": \"\"\n      }\n    },\n    {\n      \"column\": \"fuel_type\",\n      \"properties\": {\n        \"dtype\": \"category\",\n        \"num_unique_values\": 2,\n        \"samples\": [\n          \"Diesel\",\n          \"HFO\"\n        ],\n        \"semantic_type\": \"\",\n        \"description\": \"\"\n      }\n    },\n    {\n      \"column\": \"fuel_consumption\",\n      \"properties\": {\n        \"dtype\": \"number\",\n        \"std\": 4892.35281255227,\n        \"min\": 237.88,\n        \"max\": 24648.52,\n        \"num_unique_values\": 1439,\n        \"samples\": [\n          548.06,\n          2780.32\n        ],\n        \"semantic_type\": \"\",\n        \"description\": \"\"\n      }\n    },\n    {\n      \"column\": \"CO2_emissions\",\n      \"properties\": {\n        \"dtype\": \"number\",\n        \"std\": 13567.650118294503,\n        \"min\": 615.68,\n        \"max\": 71871.21,\n        \"num_unique_values\": 1440,\n        \"samples\": [\n          1536.98,\n          7093.72\n        ],\n        \"semantic_type\": \"\",\n        \"description\": \"\"\n      }\n    },\n    {\n      \"column\": \"weather_conditions\",\n      \"properties\": {\n        \"dtype\": \"category\",\n        \"num_unique_values\": 3,\n        \"samples\": [\n          \"Stormy\",\n          \"Moderate\"\n        ],\n        \"semantic_type\": \"\",\n        \"description\": \"\"\n      }\n    },\n    {\n      \"column\": \"engine_efficiency\",\n      \"properties\": {\n        \"dtype\": \"number\",\n        \"std\": 7.158289401240295,\n        \"min\": 70.01,\n        \"max\": 94.98,\n        \"num_unique_values\": 1089,\n        \"samples\": [\n          84.81,\n          92.1\n        ],\n        \"semantic_type\": \"\",\n        \"description\": \"\"\n      }\n    }\n  ]\n}"
            }
          },
          "metadata": {},
          "execution_count": 117
        }
      ],
      "source": [
        "\n",
        "# Load dataset\n",
        "data = pd.read_csv(\"/content/ship_fuel_efficiency.csv\")\n",
        "data.head()"
      ]
    },
    {
      "cell_type": "code",
      "source": [
        "label_encoder = LabelEncoder()\n",
        "data['ship_id'] = label_encoder.fit_transform(data['ship_id'])\n",
        "data['ship_type'] = label_encoder.fit_transform(data['ship_type'])\n",
        "data['route_id'] = label_encoder.fit_transform(data['route_id'])\n",
        "data['month'] = label_encoder.fit_transform(data['month'])\n",
        "data['weather_conditions'] = label_encoder.fit_transform(data['weather_conditions'])\n",
        "data['fuel_type'] = label_encoder.fit_transform(data['fuel_type'])\n",
        "\n",
        "Xdf=data.drop('engine_efficiency', axis=1)\n",
        "y=data['engine_efficiency']"
      ],
      "metadata": {
        "id": "pDk6xKyGz-AM"
      },
      "execution_count": null,
      "outputs": []
    },
    {
      "cell_type": "code",
      "source": [
        "scaler = StandardScaler()\n",
        "X = scaler.fit_transform(Xdf)"
      ],
      "metadata": {
        "id": "VAszlYIW0OAV"
      },
      "execution_count": null,
      "outputs": []
    },
    {
      "cell_type": "code",
      "source": [
        "X = Xdf.values  # Get the NumPy array from Xdf\n",
        "y = y\n",
        "\n",
        "model = LinearRegression()\n",
        "model.fit(Xdf, y)\n",
        "\n",
        "# Getting feature importance\n",
        "importance = model.coef_\n",
        "\n",
        "# feature importance\n",
        "for i, v in enumerate(importance):\n",
        "    print('Feature: %s, Score: %.5f' % (Xdf.columns[i], v))  # Printing feature name and their scores\n",
        "\n",
        "# Plot feature importance\n",
        "plt.bar(Xdf.columns, importance)  # Using original feature names for x-axis labels\n",
        "plt.xticks(rotation=90)\n",
        "plt.show()\n"
      ],
      "metadata": {
        "colab": {
          "base_uri": "https://localhost:8080/",
          "height": 707
        },
        "id": "81LKjT8SDVU1",
        "outputId": "df47382d-d0ce-4c40-8bc1-764ad87f2621"
      },
      "execution_count": null,
      "outputs": [
        {
          "output_type": "stream",
          "name": "stdout",
          "text": [
            "Feature: ship_id, Score: 0.00664\n",
            "Feature: ship_type, Score: 0.03125\n",
            "Feature: route_id, Score: 0.02268\n",
            "Feature: month, Score: 0.00552\n",
            "Feature: distance, Score: 0.00306\n",
            "Feature: fuel_type, Score: 0.83652\n",
            "Feature: fuel_consumption, Score: -0.00038\n",
            "Feature: CO2_emissions, Score: 0.00009\n",
            "Feature: weather_conditions, Score: 0.04052\n"
          ]
        },
        {
          "output_type": "display_data",
          "data": {
            "text/plain": [
              "<Figure size 640x480 with 1 Axes>"
            ],
            "image/png": "[encoded data removed]"
          },
          "metadata": {}
        }
      ]
    },
    {
      "cell_type": "code",
      "source": [
        "X=Xdf[['ship_type']]\n",
        "y=data['engine_efficiency'] #checked each feature with target feature"
      ],
      "metadata": {
        "id": "b-vEEJPdNP-O"
      },
      "execution_count": null,
      "outputs": []
    },
    {
      "cell_type": "markdown",
      "source": [
        "##Linear Regression"
      ],
      "metadata": {
        "id": "o0IOUJSK0COy"
      }
    },
    {
      "cell_type": "code",
      "source": [
        "model = LinearRegression()\n",
        "model.fit(X, y)\n",
        "\n",
        "y_pred = model.predict(X)\n",
        "\n",
        "# Evaluating model\n",
        "mse = mean_squared_error(y, y_pred)\n",
        "r2 = r2_score(y, y_pred)\n",
        "\n",
        "print(f\"Mean Squared Error: {mse}\")\n",
        "print(f\"R2 Score: {r2*100} %\")\n",
        "\n",
        "plt.scatter(y, y_pred)\n",
        "# plt.plot(y, y_pred)\n",
        "plt.xlabel(\"Actual Engine Efficiency\")\n",
        "plt.ylabel(\"Predicted Engine Efficiency\")\n",
        "plt.title(\"Actual vs Predicted Engine Efficiency\")\n",
        "plt.show()"
      ],
      "metadata": {
        "colab": {
          "base_uri": "https://localhost:8080/",
          "height": 507
        },
        "id": "FFJCPIbExVbD",
        "outputId": "2127dc08-3021-43ce-b1a4-c9278dba29b9"
      },
      "execution_count": null,
      "outputs": [
        {
          "output_type": "stream",
          "name": "stdout",
          "text": [
            "Mean Squared Error: 51.08130037211882\n",
            "R2 Score: 0.24259624783219413 %\n"
          ]
        },
        {
          "output_type": "display_data",
          "data": {
            "text/plain": [
              "<Figure size 640x480 with 1 Axes>"
            ],
            "image/png": "[encoded data removed]"
          },
          "metadata": {}
        }
      ]
    },
    {
      "cell_type": "code",
      "source": [
        "X_train, X_test, y_train, y_test = train_test_split(X, y, test_size=0.3, random_state=42)\n",
        "\n",
        "model = LinearRegression()\n",
        "model.fit(X_train, y_train)\n",
        "\n",
        "y_pred = model.predict(X_test)\n",
        "\n",
        "# Evaluating model\n",
        "mse = mean_squared_error(y_test, y_pred)\n",
        "r2 = r2_score(y_test, y_pred)\n",
        "\n",
        "print(f\"Mean Squared Error: {mse}\")\n",
        "print(f\"R2 Score: {r2*100} %\")\n"
      ],
      "metadata": {
        "colab": {
          "base_uri": "https://localhost:8080/"
        },
        "id": "7sZSIoTqyDkn",
        "outputId": "4ac11817-e2ba-4076-fb00-fa07edf3a22c"
      },
      "execution_count": null,
      "outputs": [
        {
          "output_type": "stream",
          "name": "stdout",
          "text": [
            "Mean Squared Error: 49.403015953980955\n",
            "R2 Score: -0.03346600476874517 %\n"
          ]
        }
      ]
    },
    {
      "cell_type": "markdown",
      "source": [
        "##KNN Regression"
      ],
      "metadata": {
        "id": "mCPKwE0T1siD"
      }
    },
    {
      "cell_type": "code",
      "source": [
        "k_values = [i for i in range(1, 50) if i % 2 != 0]\n",
        "best_mse = float('inf')\n",
        "best_r2=0\n",
        "best_k=0\n",
        "for k in k_values:\n",
        "    knn = KNeighborsRegressor(n_neighbors=k)\n",
        "    knn.fit(X, y)\n",
        "    y_pred = knn.predict(X)\n",
        "    mse = mean_squared_error(y, y_pred)\n",
        "    r2 = r2_score(y, y_pred)\n",
        "    if mse < best_mse:\n",
        "      best_mse = mse\n",
        "      best_r2 = r2\n",
        "      best_k=k\n",
        "\n",
        "print(f\"Best K value: {best_k}\")\n",
        "print(f\"Best Mean Squared Error: {best_mse}\")\n",
        "print(f\"Best R2 Score: {best_r2*100} %\")"
      ],
      "metadata": {
        "colab": {
          "base_uri": "https://localhost:8080/"
        },
        "id": "f0KkCCqb0GCK",
        "outputId": "6f75c0a5-6980-4b2d-e7da-66110ef1ab35"
      },
      "execution_count": null,
      "outputs": [
        {
          "output_type": "stream",
          "name": "stdout",
          "text": [
            "Best K value: 1\n",
            "Best Mean Squared Error: 0.0\n",
            "Best R2 Score: 100.0 %\n"
          ]
        }
      ]
    },
    {
      "cell_type": "code",
      "source": [
        "X_train, X_test, y_train, y_test = train_test_split(X, y, test_size=0.3, random_state=42)\n",
        "\n",
        "k_values = [i for i in range(1, 1000) if i % 2 != 0]\n",
        "best_mse = float('inf')\n",
        "best_r2=0\n",
        "best_k=0\n",
        "for k in k_values:\n",
        "    knn = KNeighborsRegressor(n_neighbors=k)\n",
        "    knn.fit(X_train, y_train)\n",
        "    y_pred = knn.predict(X_test)\n",
        "    mse = mean_squared_error(y_test, y_pred)\n",
        "    r2 = r2_score(y_test, y_pred)\n",
        "    if mse < best_mse:\n",
        "      best_mse = mse\n",
        "      best_r2 = r2\n",
        "      best_k=k\n",
        "\n",
        "print(f\"Best K value: {best_k}\")\n",
        "print(f\"Best Mean Squared Error: {best_mse}\")\n",
        "print(f\"Best R2 Score: {best_r2*100} %\")\n"
      ],
      "metadata": {
        "colab": {
          "base_uri": "https://localhost:8080/"
        },
        "id": "0nwtrCUZ02zx",
        "outputId": "6bcd3d09-edcc-4247-cbfd-ee8a83c2a566"
      },
      "execution_count": null,
      "outputs": [
        {
          "output_type": "stream",
          "name": "stdout",
          "text": [
            "Best K value: 551\n",
            "Best Mean Squared Error: 49.30007231486864\n",
            "Best R2 Score: 0.17497894185438678 %\n"
          ]
        }
      ]
    },
    {
      "cell_type": "markdown",
      "source": [
        "##Polynomial Regression"
      ],
      "metadata": {
        "id": "0UnzkzR416dA"
      }
    },
    {
      "cell_type": "code",
      "source": [
        "poly = PolynomialFeatures(degree=1, include_bias=False)\n",
        "X_poly = poly.fit_transform(X)\n",
        "\n",
        "model = LinearRegression()\n",
        "model.fit(X_poly, y)\n",
        "\n",
        "# Predict and evaluate\n",
        "y_pred = model.predict(X_poly)\n",
        "mse = mean_squared_error(y, y_pred)\n",
        "\n",
        "print(f\"Mean Squared Error: {mse}\\n\")\n",
        "print(f\"R2 Score: {r2_score(y, y_pred)}\")\n",
        "\n"
      ],
      "metadata": {
        "colab": {
          "base_uri": "https://localhost:8080/"
        },
        "id": "FpMvWzjI194T",
        "outputId": "0e842115-c192-4b38-97d5-325b09528b76"
      },
      "execution_count": null,
      "outputs": [
        {
          "output_type": "stream",
          "name": "stdout",
          "text": [
            "Mean Squared Error: 50.92525247132457\n",
            "\n",
            "R2 Score: 0.005473444302552699\n"
          ]
        }
      ]
    },
    {
      "cell_type": "code",
      "source": [
        "X_train, X_test, y_train, y_test = train_test_split(X, y, test_size=0.3, random_state=42)\n",
        "\n",
        "poly = PolynomialFeatures(degree=1, include_bias=False)\n",
        "X_train_poly = poly.fit_transform(X_train) # Transform the training data\n",
        "X_test_poly = poly.transform(X_test) # Transform the testing data\n",
        "\n",
        "model = LinearRegression()\n",
        "model.fit(X_train_poly, y_train)\n",
        "\n",
        "# Predict and evaluate using the transformed test data\n",
        "y_pred = model.predict(X_test_poly)\n",
        "mse = mean_squared_error(y_test, y_pred)\n",
        "\n",
        "print(f\"Mean Squared Error: {mse}\\n\")\n",
        "print(f\"R2 Score: {r2_score(y_test, y_pred)}\")\n"
      ],
      "metadata": {
        "colab": {
          "base_uri": "https://localhost:8080/"
        },
        "id": "2V_eBret4X4V",
        "outputId": "f11a5516-f5ed-481f-ab67-71898dc591da"
      },
      "execution_count": null,
      "outputs": [
        {
          "output_type": "stream",
          "name": "stdout",
          "text": [
            "Mean Squared Error: 50.224553835403924\n",
            "\n",
            "R2 Score: -0.01696953145098523\n"
          ]
        }
      ]
    }
  ]
}