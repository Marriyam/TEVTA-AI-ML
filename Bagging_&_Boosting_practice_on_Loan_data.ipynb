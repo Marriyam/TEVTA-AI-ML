{
  "cells": [
    {
      "cell_type": "markdown",
      "metadata": {
        "id": "view-in-github",
        "colab_type": "text"
      },
      "source": [
        "<a href=\"https://colab.research.google.com/github/Marriyam/TEVTA-AI-ML/blob/main/Bagging_%26_Boosting_practice_on_Loan_data.ipynb\" target=\"_parent\"><img src=\"https://colab.research.google.com/assets/colab-badge.svg\" alt=\"Open In Colab\"/></a>"
      ]
    },
    {
      "cell_type": "code",
      "execution_count": null,
      "metadata": {
        "colab": {
          "background_save": true,
          "base_uri": "https://localhost:8080/"
        },
        "id": "WH-B6Ex1aaK2",
        "outputId": "6d5e7d87-3729-47c9-e3d4-e4019f20c1f8"
      },
      "outputs": [
        {
          "name": "stdout",
          "output_type": "stream",
          "text": [
            "Found existing installation: scikit-learn 1.6.0\n",
            "Uninstalling scikit-learn-1.6.0:\n",
            "  Would remove:\n",
            "    /usr/local/lib/python3.11/dist-packages/scikit_learn-1.6.0.dist-info/*\n",
            "    /usr/local/lib/python3.11/dist-packages/scikit_learn.libs/libgomp-a34b3233.so.1.0.0\n",
            "    /usr/local/lib/python3.11/dist-packages/sklearn/*\n",
            "Proceed (Y/n)? "
          ]
        }
      ],
      "source": [
        "!pip uninstall scikit-learn\n",
        "!pip install scikit-learn==1.2.2"
      ]
    },
    {
      "cell_type": "code",
      "execution_count": null,
      "metadata": {
        "id": "sCHXpMWZSS9S"
      },
      "outputs": [],
      "source": [
        "from sklearn.preprocessing import LabelEncoder\n",
        "import pandas as pd\n",
        "from sklearn.ensemble import RandomForestClassifier\n",
        "from sklearn.model_selection import cross_val_score\n",
        "from sklearn.tree import DecisionTreeClassifier\n",
        "from sklearn.model_selection import train_test_split\n",
        "from sklearn.metrics import accuracy_score\n",
        "from sklearn.preprocessing import StandardScaler\n",
        "from sklearn.linear_model import LogisticRegression\n",
        "import numpy as np\n",
        "from sklearn.preprocessing import OneHotEncoder\n",
        "from sklearn.model_selection import RandomizedSearchCV\n",
        "from sklearn.ensemble import GradientBoostingClassifier\n",
        "from xgboost import XGBClassifier\n",
        "from lightgbm import LGBMClassifier\n",
        "from sklearn.ensemble import StackingClassifier"
      ]
    },
    {
      "cell_type": "code",
      "execution_count": null,
      "metadata": {
        "colab": {
          "base_uri": "https://localhost:8080/",
          "height": 226
        },
        "id": "rtEmuI0tYwsq",
        "outputId": "de0c1b7e-9cfa-4146-f79f-0fb170d745dc"
      },
      "outputs": [
        {
          "data": {
            "application/vnd.google.colaboratory.intrinsic+json": {
              "summary": "{\n  \"name\": \"loan_data\",\n  \"rows\": 9578,\n  \"fields\": [\n    {\n      \"column\": \"credit.policy\",\n      \"properties\": {\n        \"dtype\": \"number\",\n        \"std\": 0,\n        \"min\": 0,\n        \"max\": 1,\n        \"num_unique_values\": 2,\n        \"samples\": [\n          0,\n          1\n        ],\n        \"semantic_type\": \"\",\n        \"description\": \"\"\n      }\n    },\n    {\n      \"column\": \"int.rate\",\n      \"properties\": {\n        \"dtype\": \"number\",\n        \"std\": 0.026846987213382724,\n        \"min\": 0.06,\n        \"max\": 0.2164,\n        \"num_unique_values\": 249,\n        \"samples\": [\n          0.1367,\n          0.1496\n        ],\n        \"semantic_type\": \"\",\n        \"description\": \"\"\n      }\n    },\n    {\n      \"column\": \"installment\",\n      \"properties\": {\n        \"dtype\": \"number\",\n        \"std\": 207.07130149985852,\n        \"min\": 15.67,\n        \"max\": 940.14,\n        \"num_unique_values\": 4788,\n        \"samples\": [\n          326.02,\n          182.39\n        ],\n        \"semantic_type\": \"\",\n        \"description\": \"\"\n      }\n    },\n    {\n      \"column\": \"log.annual.inc\",\n      \"properties\": {\n        \"dtype\": \"number\",\n        \"std\": 0.6148127513545946,\n        \"min\": 7.547501683,\n        \"max\": 14.52835448,\n        \"num_unique_values\": 1987,\n        \"samples\": [\n          10.22557105,\n          11.19908503\n        ],\n        \"semantic_type\": \"\",\n        \"description\": \"\"\n      }\n    },\n    {\n      \"column\": \"dti\",\n      \"properties\": {\n        \"dtype\": \"number\",\n        \"std\": 6.883969540539585,\n        \"min\": 0.0,\n        \"max\": 29.96,\n        \"num_unique_values\": 2529,\n        \"samples\": [\n          5.86,\n          21.4\n        ],\n        \"semantic_type\": \"\",\n        \"description\": \"\"\n      }\n    },\n    {\n      \"column\": \"fico\",\n      \"properties\": {\n        \"dtype\": \"number\",\n        \"std\": 37,\n        \"min\": 612,\n        \"max\": 827,\n        \"num_unique_values\": 44,\n        \"samples\": [\n          647,\n          717\n        ],\n        \"semantic_type\": \"\",\n        \"description\": \"\"\n      }\n    },\n    {\n      \"column\": \"days.with.cr.line\",\n      \"properties\": {\n        \"dtype\": \"number\",\n        \"std\": 2496.9303768113477,\n        \"min\": 178.9583333,\n        \"max\": 17639.95833,\n        \"num_unique_values\": 2687,\n        \"samples\": [\n          2432.0,\n          8669.958333\n        ],\n        \"semantic_type\": \"\",\n        \"description\": \"\"\n      }\n    },\n    {\n      \"column\": \"revol.bal\",\n      \"properties\": {\n        \"dtype\": \"number\",\n        \"std\": 33756,\n        \"min\": 0,\n        \"max\": 1207359,\n        \"num_unique_values\": 7869,\n        \"samples\": [\n          11196,\n          462\n        ],\n        \"semantic_type\": \"\",\n        \"description\": \"\"\n      }\n    },\n    {\n      \"column\": \"revol.util\",\n      \"properties\": {\n        \"dtype\": \"number\",\n        \"std\": 29.014416965641058,\n        \"min\": 0.0,\n        \"max\": 119.0,\n        \"num_unique_values\": 1035,\n        \"samples\": [\n          28.6,\n          1.7\n        ],\n        \"semantic_type\": \"\",\n        \"description\": \"\"\n      }\n    },\n    {\n      \"column\": \"inq.last.6mths\",\n      \"properties\": {\n        \"dtype\": \"number\",\n        \"std\": 2,\n        \"min\": 0,\n        \"max\": 33,\n        \"num_unique_values\": 28,\n        \"samples\": [\n          33,\n          24\n        ],\n        \"semantic_type\": \"\",\n        \"description\": \"\"\n      }\n    },\n    {\n      \"column\": \"delinq.2yrs\",\n      \"properties\": {\n        \"dtype\": \"number\",\n        \"std\": 0,\n        \"min\": 0,\n        \"max\": 13,\n        \"num_unique_values\": 11,\n        \"samples\": [\n          5,\n          0\n        ],\n        \"semantic_type\": \"\",\n        \"description\": \"\"\n      }\n    },\n    {\n      \"column\": \"pub.rec\",\n      \"properties\": {\n        \"dtype\": \"number\",\n        \"std\": 0,\n        \"min\": 0,\n        \"max\": 5,\n        \"num_unique_values\": 6,\n        \"samples\": [\n          0,\n          1\n        ],\n        \"semantic_type\": \"\",\n        \"description\": \"\"\n      }\n    },\n    {\n      \"column\": \"not.fully.paid\",\n      \"properties\": {\n        \"dtype\": \"number\",\n        \"std\": 0,\n        \"min\": 0,\n        \"max\": 1,\n        \"num_unique_values\": 2,\n        \"samples\": [\n          1,\n          0\n        ],\n        \"semantic_type\": \"\",\n        \"description\": \"\"\n      }\n    },\n    {\n      \"column\": \"purpose_credit_card\",\n      \"properties\": {\n        \"dtype\": \"boolean\",\n        \"num_unique_values\": 2,\n        \"samples\": [\n          true,\n          false\n        ],\n        \"semantic_type\": \"\",\n        \"description\": \"\"\n      }\n    },\n    {\n      \"column\": \"purpose_debt_consolidation\",\n      \"properties\": {\n        \"dtype\": \"boolean\",\n        \"num_unique_values\": 2,\n        \"samples\": [\n          false,\n          true\n        ],\n        \"semantic_type\": \"\",\n        \"description\": \"\"\n      }\n    },\n    {\n      \"column\": \"purpose_educational\",\n      \"properties\": {\n        \"dtype\": \"boolean\",\n        \"num_unique_values\": 2,\n        \"samples\": [\n          true,\n          false\n        ],\n        \"semantic_type\": \"\",\n        \"description\": \"\"\n      }\n    },\n    {\n      \"column\": \"purpose_home_improvement\",\n      \"properties\": {\n        \"dtype\": \"boolean\",\n        \"num_unique_values\": 2,\n        \"samples\": [\n          true,\n          false\n        ],\n        \"semantic_type\": \"\",\n        \"description\": \"\"\n      }\n    },\n    {\n      \"column\": \"purpose_major_purchase\",\n      \"properties\": {\n        \"dtype\": \"boolean\",\n        \"num_unique_values\": 2,\n        \"samples\": [\n          true,\n          false\n        ],\n        \"semantic_type\": \"\",\n        \"description\": \"\"\n      }\n    },\n    {\n      \"column\": \"purpose_small_business\",\n      \"properties\": {\n        \"dtype\": \"boolean\",\n        \"num_unique_values\": 2,\n        \"samples\": [\n          true,\n          false\n        ],\n        \"semantic_type\": \"\",\n        \"description\": \"\"\n      }\n    }\n  ]\n}",
              "type": "dataframe",
              "variable_name": "loan_data"
            },
            "text/html": [
              "\n",
              "  <div id=\"df-27096ce1-a6a1-4550-9fa7-c03d2a28ef75\" class=\"colab-df-container\">\n",
              "    <div>\n",
              "<style scoped>\n",
              "    .dataframe tbody tr th:only-of-type {\n",
              "        vertical-align: middle;\n",
              "    }\n",
              "\n",
              "    .dataframe tbody tr th {\n",
              "        vertical-align: top;\n",
              "    }\n",
              "\n",
              "    .dataframe thead th {\n",
              "        text-align: right;\n",
              "    }\n",
              "</style>\n",
              "<table border=\"1\" class=\"dataframe\">\n",
              "  <thead>\n",
              "    <tr style=\"text-align: right;\">\n",
              "      <th></th>\n",
              "      <th>credit.policy</th>\n",
              "      <th>int.rate</th>\n",
              "      <th>installment</th>\n",
              "      <th>log.annual.inc</th>\n",
              "      <th>dti</th>\n",
              "      <th>fico</th>\n",
              "      <th>days.with.cr.line</th>\n",
              "      <th>revol.bal</th>\n",
              "      <th>revol.util</th>\n",
              "      <th>inq.last.6mths</th>\n",
              "      <th>delinq.2yrs</th>\n",
              "      <th>pub.rec</th>\n",
              "      <th>not.fully.paid</th>\n",
              "      <th>purpose_credit_card</th>\n",
              "      <th>purpose_debt_consolidation</th>\n",
              "      <th>purpose_educational</th>\n",
              "      <th>purpose_home_improvement</th>\n",
              "      <th>purpose_major_purchase</th>\n",
              "      <th>purpose_small_business</th>\n",
              "    </tr>\n",
              "  </thead>\n",
              "  <tbody>\n",
              "    <tr>\n",
              "      <th>0</th>\n",
              "      <td>1</td>\n",
              "      <td>0.1189</td>\n",
              "      <td>829.10</td>\n",
              "      <td>11.350407</td>\n",
              "      <td>19.48</td>\n",
              "      <td>737</td>\n",
              "      <td>5639.958333</td>\n",
              "      <td>28854</td>\n",
              "      <td>52.1</td>\n",
              "      <td>0</td>\n",
              "      <td>0</td>\n",
              "      <td>0</td>\n",
              "      <td>0</td>\n",
              "      <td>False</td>\n",
              "      <td>True</td>\n",
              "      <td>False</td>\n",
              "      <td>False</td>\n",
              "      <td>False</td>\n",
              "      <td>False</td>\n",
              "    </tr>\n",
              "    <tr>\n",
              "      <th>1</th>\n",
              "      <td>1</td>\n",
              "      <td>0.1071</td>\n",
              "      <td>228.22</td>\n",
              "      <td>11.082143</td>\n",
              "      <td>14.29</td>\n",
              "      <td>707</td>\n",
              "      <td>2760.000000</td>\n",
              "      <td>33623</td>\n",
              "      <td>76.7</td>\n",
              "      <td>0</td>\n",
              "      <td>0</td>\n",
              "      <td>0</td>\n",
              "      <td>0</td>\n",
              "      <td>True</td>\n",
              "      <td>False</td>\n",
              "      <td>False</td>\n",
              "      <td>False</td>\n",
              "      <td>False</td>\n",
              "      <td>False</td>\n",
              "    </tr>\n",
              "    <tr>\n",
              "      <th>2</th>\n",
              "      <td>1</td>\n",
              "      <td>0.1357</td>\n",
              "      <td>366.86</td>\n",
              "      <td>10.373491</td>\n",
              "      <td>11.63</td>\n",
              "      <td>682</td>\n",
              "      <td>4710.000000</td>\n",
              "      <td>3511</td>\n",
              "      <td>25.6</td>\n",
              "      <td>1</td>\n",
              "      <td>0</td>\n",
              "      <td>0</td>\n",
              "      <td>0</td>\n",
              "      <td>False</td>\n",
              "      <td>True</td>\n",
              "      <td>False</td>\n",
              "      <td>False</td>\n",
              "      <td>False</td>\n",
              "      <td>False</td>\n",
              "    </tr>\n",
              "    <tr>\n",
              "      <th>3</th>\n",
              "      <td>1</td>\n",
              "      <td>0.1008</td>\n",
              "      <td>162.34</td>\n",
              "      <td>11.350407</td>\n",
              "      <td>8.10</td>\n",
              "      <td>712</td>\n",
              "      <td>2699.958333</td>\n",
              "      <td>33667</td>\n",
              "      <td>73.2</td>\n",
              "      <td>1</td>\n",
              "      <td>0</td>\n",
              "      <td>0</td>\n",
              "      <td>0</td>\n",
              "      <td>False</td>\n",
              "      <td>True</td>\n",
              "      <td>False</td>\n",
              "      <td>False</td>\n",
              "      <td>False</td>\n",
              "      <td>False</td>\n",
              "    </tr>\n",
              "    <tr>\n",
              "      <th>4</th>\n",
              "      <td>1</td>\n",
              "      <td>0.1426</td>\n",
              "      <td>102.92</td>\n",
              "      <td>11.299732</td>\n",
              "      <td>14.97</td>\n",
              "      <td>667</td>\n",
              "      <td>4066.000000</td>\n",
              "      <td>4740</td>\n",
              "      <td>39.5</td>\n",
              "      <td>0</td>\n",
              "      <td>1</td>\n",
              "      <td>0</td>\n",
              "      <td>0</td>\n",
              "      <td>True</td>\n",
              "      <td>False</td>\n",
              "      <td>False</td>\n",
              "      <td>False</td>\n",
              "      <td>False</td>\n",
              "      <td>False</td>\n",
              "    </tr>\n",
              "  </tbody>\n",
              "</table>\n",
              "</div>\n",
              "    <div class=\"colab-df-buttons\">\n",
              "\n",
              "  <div class=\"colab-df-container\">\n",
              "    <button class=\"colab-df-convert\" onclick=\"convertToInteractive('df-27096ce1-a6a1-4550-9fa7-c03d2a28ef75')\"\n",
              "            title=\"Convert this dataframe to an interactive table.\"\n",
              "            style=\"display:none;\">\n",
              "\n",
              "  <svg xmlns=\"http://www.w3.org/2000/svg\" height=\"24px\" viewBox=\"0 -960 960 960\">\n",
              "    <path d=\"M120-120v-720h720v720H120Zm60-500h600v-160H180v160Zm220 220h160v-160H400v160Zm0 220h160v-160H400v160ZM180-400h160v-160H180v160Zm440 0h160v-160H620v160ZM180-180h160v-160H180v160Zm440 0h160v-160H620v160Z\"/>\n",
              "  </svg>\n",
              "    </button>\n",
              "\n",
              "  <style>\n",
              "    .colab-df-container {\n",
              "      display:flex;\n",
              "      gap: 12px;\n",
              "    }\n",
              "\n",
              "    .colab-df-convert {\n",
              "      background-color: #E8F0FE;\n",
              "      border: none;\n",
              "      border-radius: 50%;\n",
              "      cursor: pointer;\n",
              "      display: none;\n",
              "      fill: #1967D2;\n",
              "      height: 32px;\n",
              "      padding: 0 0 0 0;\n",
              "      width: 32px;\n",
              "    }\n",
              "\n",
              "    .colab-df-convert:hover {\n",
              "      background-color: #E2EBFA;\n",
              "      box-shadow: 0px 1px 2px rgba(60, 64, 67, 0.3), 0px 1px 3px 1px rgba(60, 64, 67, 0.15);\n",
              "      fill: #174EA6;\n",
              "    }\n",
              "\n",
              "    .colab-df-buttons div {\n",
              "      margin-bottom: 4px;\n",
              "    }\n",
              "\n",
              "    [theme=dark] .colab-df-convert {\n",
              "      background-color: #3B4455;\n",
              "      fill: #D2E3FC;\n",
              "    }\n",
              "\n",
              "    [theme=dark] .colab-df-convert:hover {\n",
              "      background-color: #434B5C;\n",
              "      box-shadow: 0px 1px 3px 1px rgba(0, 0, 0, 0.15);\n",
              "      filter: drop-shadow(0px 1px 2px rgba(0, 0, 0, 0.3));\n",
              "      fill: #FFFFFF;\n",
              "    }\n",
              "  </style>\n",
              "\n",
              "    <script>\n",
              "      const buttonEl =\n",
              "        document.querySelector('#df-27096ce1-a6a1-4550-9fa7-c03d2a28ef75 button.colab-df-convert');\n",
              "      buttonEl.style.display =\n",
              "        google.colab.kernel.accessAllowed ? 'block' : 'none';\n",
              "\n",
              "      async function convertToInteractive(key) {\n",
              "        const element = document.querySelector('#df-27096ce1-a6a1-4550-9fa7-c03d2a28ef75');\n",
              "        const dataTable =\n",
              "          await google.colab.kernel.invokeFunction('convertToInteractive',\n",
              "                                                    [key], {});\n",
              "        if (!dataTable) return;\n",
              "\n",
              "        const docLinkHtml = 'Like what you see? Visit the ' +\n",
              "          '<a target=\"_blank\" href=https://colab.research.google.com/notebooks/data_table.ipynb>data table notebook</a>'\n",
              "          + ' to learn more about interactive tables.';\n",
              "        element.innerHTML = '';\n",
              "        dataTable['output_type'] = 'display_data';\n",
              "        await google.colab.output.renderOutput(dataTable, element);\n",
              "        const docLink = document.createElement('div');\n",
              "        docLink.innerHTML = docLinkHtml;\n",
              "        element.appendChild(docLink);\n",
              "      }\n",
              "    </script>\n",
              "  </div>\n",
              "\n",
              "\n",
              "<div id=\"df-17c2a38a-8edf-476f-b86f-0a2ce83ac0fc\">\n",
              "  <button class=\"colab-df-quickchart\" onclick=\"quickchart('df-17c2a38a-8edf-476f-b86f-0a2ce83ac0fc')\"\n",
              "            title=\"Suggest charts\"\n",
              "            style=\"display:none;\">\n",
              "\n",
              "<svg xmlns=\"http://www.w3.org/2000/svg\" height=\"24px\"viewBox=\"0 0 24 24\"\n",
              "     width=\"24px\">\n",
              "    <g>\n",
              "        <path d=\"M19 3H5c-1.1 0-2 .9-2 2v14c0 1.1.9 2 2 2h14c1.1 0 2-.9 2-2V5c0-1.1-.9-2-2-2zM9 17H7v-7h2v7zm4 0h-2V7h2v10zm4 0h-2v-4h2v4z\"/>\n",
              "    </g>\n",
              "</svg>\n",
              "  </button>\n",
              "\n",
              "<style>\n",
              "  .colab-df-quickchart {\n",
              "      --bg-color: #E8F0FE;\n",
              "      --fill-color: #1967D2;\n",
              "      --hover-bg-color: #E2EBFA;\n",
              "      --hover-fill-color: #174EA6;\n",
              "      --disabled-fill-color: #AAA;\n",
              "      --disabled-bg-color: #DDD;\n",
              "  }\n",
              "\n",
              "  [theme=dark] .colab-df-quickchart {\n",
              "      --bg-color: #3B4455;\n",
              "      --fill-color: #D2E3FC;\n",
              "      --hover-bg-color: #434B5C;\n",
              "      --hover-fill-color: #FFFFFF;\n",
              "      --disabled-bg-color: #3B4455;\n",
              "      --disabled-fill-color: #666;\n",
              "  }\n",
              "\n",
              "  .colab-df-quickchart {\n",
              "    background-color: var(--bg-color);\n",
              "    border: none;\n",
              "    border-radius: 50%;\n",
              "    cursor: pointer;\n",
              "    display: none;\n",
              "    fill: var(--fill-color);\n",
              "    height: 32px;\n",
              "    padding: 0;\n",
              "    width: 32px;\n",
              "  }\n",
              "\n",
              "  .colab-df-quickchart:hover {\n",
              "    background-color: var(--hover-bg-color);\n",
              "    box-shadow: 0 1px 2px rgba(60, 64, 67, 0.3), 0 1px 3px 1px rgba(60, 64, 67, 0.15);\n",
              "    fill: var(--button-hover-fill-color);\n",
              "  }\n",
              "\n",
              "  .colab-df-quickchart-complete:disabled,\n",
              "  .colab-df-quickchart-complete:disabled:hover {\n",
              "    background-color: var(--disabled-bg-color);\n",
              "    fill: var(--disabled-fill-color);\n",
              "    box-shadow: none;\n",
              "  }\n",
              "\n",
              "  .colab-df-spinner {\n",
              "    border: 2px solid var(--fill-color);\n",
              "    border-color: transparent;\n",
              "    border-bottom-color: var(--fill-color);\n",
              "    animation:\n",
              "      spin 1s steps(1) infinite;\n",
              "  }\n",
              "\n",
              "  @keyframes spin {\n",
              "    0% {\n",
              "      border-color: transparent;\n",
              "      border-bottom-color: var(--fill-color);\n",
              "      border-left-color: var(--fill-color);\n",
              "    }\n",
              "    20% {\n",
              "      border-color: transparent;\n",
              "      border-left-color: var(--fill-color);\n",
              "      border-top-color: var(--fill-color);\n",
              "    }\n",
              "    30% {\n",
              "      border-color: transparent;\n",
              "      border-left-color: var(--fill-color);\n",
              "      border-top-color: var(--fill-color);\n",
              "      border-right-color: var(--fill-color);\n",
              "    }\n",
              "    40% {\n",
              "      border-color: transparent;\n",
              "      border-right-color: var(--fill-color);\n",
              "      border-top-color: var(--fill-color);\n",
              "    }\n",
              "    60% {\n",
              "      border-color: transparent;\n",
              "      border-right-color: var(--fill-color);\n",
              "    }\n",
              "    80% {\n",
              "      border-color: transparent;\n",
              "      border-right-color: var(--fill-color);\n",
              "      border-bottom-color: var(--fill-color);\n",
              "    }\n",
              "    90% {\n",
              "      border-color: transparent;\n",
              "      border-bottom-color: var(--fill-color);\n",
              "    }\n",
              "  }\n",
              "</style>\n",
              "\n",
              "  <script>\n",
              "    async function quickchart(key) {\n",
              "      const quickchartButtonEl =\n",
              "        document.querySelector('#' + key + ' button');\n",
              "      quickchartButtonEl.disabled = true;  // To prevent multiple clicks.\n",
              "      quickchartButtonEl.classList.add('colab-df-spinner');\n",
              "      try {\n",
              "        const charts = await google.colab.kernel.invokeFunction(\n",
              "            'suggestCharts', [key], {});\n",
              "      } catch (error) {\n",
              "        console.error('Error during call to suggestCharts:', error);\n",
              "      }\n",
              "      quickchartButtonEl.classList.remove('colab-df-spinner');\n",
              "      quickchartButtonEl.classList.add('colab-df-quickchart-complete');\n",
              "    }\n",
              "    (() => {\n",
              "      let quickchartButtonEl =\n",
              "        document.querySelector('#df-17c2a38a-8edf-476f-b86f-0a2ce83ac0fc button');\n",
              "      quickchartButtonEl.style.display =\n",
              "        google.colab.kernel.accessAllowed ? 'block' : 'none';\n",
              "    })();\n",
              "  </script>\n",
              "</div>\n",
              "\n",
              "    </div>\n",
              "  </div>\n"
            ],
            "text/plain": [
              "   credit.policy  int.rate  installment  log.annual.inc    dti  fico  \\\n",
              "0              1    0.1189       829.10       11.350407  19.48   737   \n",
              "1              1    0.1071       228.22       11.082143  14.29   707   \n",
              "2              1    0.1357       366.86       10.373491  11.63   682   \n",
              "3              1    0.1008       162.34       11.350407   8.10   712   \n",
              "4              1    0.1426       102.92       11.299732  14.97   667   \n",
              "\n",
              "   days.with.cr.line  revol.bal  revol.util  inq.last.6mths  delinq.2yrs  \\\n",
              "0        5639.958333      28854        52.1               0            0   \n",
              "1        2760.000000      33623        76.7               0            0   \n",
              "2        4710.000000       3511        25.6               1            0   \n",
              "3        2699.958333      33667        73.2               1            0   \n",
              "4        4066.000000       4740        39.5               0            1   \n",
              "\n",
              "   pub.rec  not.fully.paid  purpose_credit_card  purpose_debt_consolidation  \\\n",
              "0        0               0                False                        True   \n",
              "1        0               0                 True                       False   \n",
              "2        0               0                False                        True   \n",
              "3        0               0                False                        True   \n",
              "4        0               0                 True                       False   \n",
              "\n",
              "   purpose_educational  purpose_home_improvement  purpose_major_purchase  \\\n",
              "0                False                     False                   False   \n",
              "1                False                     False                   False   \n",
              "2                False                     False                   False   \n",
              "3                False                     False                   False   \n",
              "4                False                     False                   False   \n",
              "\n",
              "   purpose_small_business  \n",
              "0                   False  \n",
              "1                   False  \n",
              "2                   False  \n",
              "3                   False  \n",
              "4                   False  "
            ]
          },
          "execution_count": 12,
          "metadata": {},
          "output_type": "execute_result"
        }
      ],
      "source": [
        "loan_data = pd.read_csv(\"loan_data.csv\")\n",
        "loan_data = pd.get_dummies(loan_data, drop_first=True)\n",
        "loan_data.head()"
      ]
    },
    {
      "cell_type": "code",
      "execution_count": null,
      "metadata": {
        "colab": {
          "base_uri": "https://localhost:8080/",
          "height": 894
        },
        "id": "Ned6DVm8dnk5",
        "outputId": "ff9433f0-054d-454e-d12f-0e1d915e87dd"
      },
      "outputs": [
        {
          "name": "stdout",
          "output_type": "stream",
          "text": [
            "                       Feature  Importance\n",
            "6            days.with.cr.line    0.113541\n",
            "7                    revol.bal    0.113148\n",
            "2                  installment    0.113030\n",
            "4                          dti    0.112646\n",
            "3               log.annual.inc    0.111310\n",
            "8                   revol.util    0.109881\n",
            "1                     int.rate    0.104759\n",
            "5                         fico    0.078838\n",
            "9               inq.last.6mths    0.053102\n",
            "0                credit.policy    0.015796\n",
            "13  purpose_debt_consolidation    0.014221\n",
            "10                 delinq.2yrs    0.013764\n",
            "11                     pub.rec    0.009625\n",
            "17      purpose_small_business    0.008933\n",
            "12         purpose_credit_card    0.008314\n",
            "15    purpose_home_improvement    0.007691\n",
            "14         purpose_educational    0.007038\n",
            "16      purpose_major_purchase    0.004362\n"
          ]
        },
        {
          "data": {
            "image/png": "[encoded data removed]",
            "text/plain": [
              "<Figure size 1000x600 with 1 Axes>"
            ]
          },
          "metadata": {},
          "output_type": "display_data"
        }
      ],
      "source": [
        "from matplotlib import pyplot as plt\n",
        "import seaborn as sns\n",
        "\n",
        "X=loan_data.drop('not.fully.paid',axis=1)\n",
        "y=loan_data['not.fully.paid']\n",
        "X_train, X_test, y_train, y_test = train_test_split(X, y, test_size=0.3, random_state=42)\n",
        "\n",
        "tree_model = RandomForestClassifier(random_state=1)\n",
        "tree_model.fit(X_train, y_train)\n",
        "\n",
        "feature_importances = tree_model.feature_importances_\n",
        "\n",
        "feature_importance_df = pd.DataFrame({'Feature': X.columns, 'Importance': feature_importances})\n",
        "feature_importance_df = feature_importance_df.sort_values(by='Importance', ascending=False)\n",
        "print(feature_importance_df)\n",
        "\n",
        "plt.figure(figsize=(10, 6))\n",
        "plt.barh(feature_importance_df['Feature'], feature_importance_df['Importance'])\n",
        "plt.xlabel(\"Feature Importance\")\n",
        "plt.ylabel(\"Feature\")\n",
        "plt.title(\"Feature Importance from Decision Tree\")\n",
        "plt.show()"
      ]
    },
    {
      "cell_type": "code",
      "execution_count": null,
      "metadata": {
        "colab": {
          "base_uri": "https://localhost:8080/",
          "height": 517
        },
        "id": "CvygavbGZtWx",
        "outputId": "107f35b2-e5a9-4f9a-eb21-551f720cf4d7"
      },
      "outputs": [
        {
          "name": "stdout",
          "output_type": "stream",
          "text": [
            "not.fully.paid\n",
            "0    8045\n",
            "1    1533\n",
            "Name: count, dtype: int64\n"
          ]
        },
        {
          "data": {
            "text/plain": [
              "<Axes: ylabel='not.fully.paid'>"
            ]
          },
          "execution_count": 14,
          "metadata": {},
          "output_type": "execute_result"
        },
        {
          "data": {
            "image/png": "[encoded data removed]",
            "text/plain": [
              "<Figure size 640x480 with 1 Axes>"
            ]
          },
          "metadata": {},
          "output_type": "display_data"
        }
      ],
      "source": [
        "print(loan_data['not.fully.paid'].value_counts())\n",
        "loan_data['not.fully.paid'].value_counts().plot(kind='barh')"
      ]
    },
    {
      "cell_type": "code",
      "execution_count": null,
      "metadata": {
        "id": "_1QUqyguap6N"
      },
      "outputs": [],
      "source": [
        "X=loan_data[['revol.bal', 'int.rate', 'log.annual.inc', 'dti', 'days.with.cr.line', 'revol.util', 'installment']]\n",
        "StandardScaler().fit_transform(X)\n",
        "y=loan_data['not.fully.paid']"
      ]
    },
    {
      "cell_type": "code",
      "execution_count": null,
      "metadata": {
        "colab": {
          "base_uri": "https://localhost:8080/"
        },
        "id": "0rbmIFVuSu5c",
        "outputId": "640c9906-0671-4bb2-a9a8-701a5a67010c"
      },
      "outputs": [
        {
          "name": "stdout",
          "output_type": "stream",
          "text": [
            "Best n_estimators: 200\n",
            "Test Accuracy: 0.8418580375782881\n"
          ]
        }
      ],
      "source": [
        "X_train, X_temp, y_train, y_temp = train_test_split(X, y, test_size=0.4, random_state=42)\n",
        "X_val, X_test, y_val, y_test = train_test_split(X_temp, y_temp, test_size=0.5, random_state=42)\n",
        "\n",
        "n_estimators_values = [200, 300, 400, 500, 600, 700, 800, 900, 1000]\n",
        "best_n_estimators = None\n",
        "best_accuracy = 0\n",
        "\n",
        "for n_estimators in n_estimators_values:\n",
        "    gb_classifier = GradientBoostingClassifier(n_estimators=n_estimators, random_state=42)\n",
        "    gb_classifier.fit(X_train, y_train)\n",
        "    y_pred = gb_classifier.predict(X_val)\n",
        "    accuracy = accuracy_score(y_val, y_pred)\n",
        "\n",
        "    if accuracy > best_accuracy:\n",
        "        best_accuracy = accuracy\n",
        "        best_n_estimators = n_estimators\n",
        "\n",
        "print(\"Best n_estimators:\", best_n_estimators)\n",
        "\n",
        "final_gb_classifier = GradientBoostingClassifier(n_estimators=best_n_estimators, random_state=42)\n",
        "final_gb_classifier.fit(X_train, y_train)\n",
        "\n",
        "y_pred_test = final_gb_classifier.predict(X_test)\n",
        "test_accuracy = accuracy_score(y_test, y_pred_test)\n",
        "print(\"Test Accuracy:\", test_accuracy)"
      ]
    },
    {
      "cell_type": "code",
      "execution_count": null,
      "metadata": {
        "colab": {
          "base_uri": "https://localhost:8080/"
        },
        "id": "vPKa1fiDXmQu",
        "outputId": "d1d98942-c727-4f47-9fed-54ad43437ba0"
      },
      "outputs": [
        {
          "name": "stdout",
          "output_type": "stream",
          "text": [
            "Best n_estimators: 200\n",
            "Test Accuracy: 0.8220250521920668\n"
          ]
        }
      ],
      "source": [
        "X_train, X_temp, y_train, y_temp = train_test_split(X, y, test_size=0.4, random_state=42)\n",
        "X_val, X_test, y_val, y_test = train_test_split(X_temp, y_temp, test_size=0.5, random_state=42)\n",
        "\n",
        "n_estimators_values = [200, 300, 400, 500, 600, 700, 800, 900, 1000]\n",
        "best_n_estimators = None\n",
        "best_accuracy = 0\n",
        "\n",
        "for n_estimators in n_estimators_values:\n",
        "    clf = XGBClassifier(n_estimators=n_estimators, random_state=42)\n",
        "    clf.fit(X_train, y_train)\n",
        "    y_pred = clf.predict(X_val)\n",
        "    accuracy = accuracy_score(y_val, y_pred)\n",
        "\n",
        "    if accuracy > best_accuracy:\n",
        "        best_accuracy = accuracy\n",
        "        best_n_estimators = n_estimators\n",
        "\n",
        "print(\"Best n_estimators:\", best_n_estimators)\n",
        "\n",
        "finalclf = XGBClassifier(n_estimators=best_n_estimators, random_state=42)\n",
        "finalclf.fit(X_train, y_train)\n",
        "\n",
        "y_pred_test = finalclf.predict(X_test)\n",
        "test_accuracy = accuracy_score(y_test, y_pred_test)\n",
        "print(\"Test Accuracy:\", test_accuracy)"
      ]
    },
    {
      "cell_type": "code",
      "execution_count": null,
      "metadata": {
        "colab": {
          "base_uri": "https://localhost:8080/"
        },
        "id": "_4j6dh4kX4bi",
        "outputId": "55636596-90f1-45b7-a3e4-c2ddf8bd5371"
      },
      "outputs": [
        {
          "name": "stdout",
          "output_type": "stream",
          "text": [
            "[LightGBM] [Info] Number of positive: 926, number of negative: 4820\n",
            "[LightGBM] [Info] Auto-choosing row-wise multi-threading, the overhead of testing was 0.000322 seconds.\n",
            "You can set `force_row_wise=true` to remove the overhead.\n",
            "And if memory is not enough, you can set `force_col_wise=true`.\n",
            "[LightGBM] [Info] Total Bins 1747\n",
            "[LightGBM] [Info] Number of data points in the train set: 5746, number of used features: 7\n",
            "[LightGBM] [Info] [binary:BoostFromScore]: pavg=0.161156 -> initscore=-1.649655\n",
            "[LightGBM] [Info] Start training from score -1.649655\n",
            "[LightGBM] [Info] Number of positive: 926, number of negative: 4820\n",
            "[LightGBM] [Info] Auto-choosing col-wise multi-threading, the overhead of testing was 0.000774 seconds.\n",
            "You can set `force_col_wise=true` to remove the overhead.\n",
            "[LightGBM] [Info] Total Bins 1747\n",
            "[LightGBM] [Info] Number of data points in the train set: 5746, number of used features: 7\n",
            "[LightGBM] [Info] [binary:BoostFromScore]: pavg=0.161156 -> initscore=-1.649655\n",
            "[LightGBM] [Info] Start training from score -1.649655\n",
            "[LightGBM] [Info] Number of positive: 926, number of negative: 4820\n",
            "[LightGBM] [Info] Auto-choosing col-wise multi-threading, the overhead of testing was 0.000821 seconds.\n",
            "You can set `force_col_wise=true` to remove the overhead.\n",
            "[LightGBM] [Info] Total Bins 1747\n",
            "[LightGBM] [Info] Number of data points in the train set: 5746, number of used features: 7\n",
            "[LightGBM] [Info] [binary:BoostFromScore]: pavg=0.161156 -> initscore=-1.649655\n",
            "[LightGBM] [Info] Start training from score -1.649655\n",
            "[LightGBM] [Info] Number of positive: 926, number of negative: 4820\n",
            "[LightGBM] [Info] Auto-choosing col-wise multi-threading, the overhead of testing was 0.000744 seconds.\n",
            "You can set `force_col_wise=true` to remove the overhead.\n",
            "[LightGBM] [Info] Total Bins 1747\n",
            "[LightGBM] [Info] Number of data points in the train set: 5746, number of used features: 7\n",
            "[LightGBM] [Info] [binary:BoostFromScore]: pavg=0.161156 -> initscore=-1.649655\n",
            "[LightGBM] [Info] Start training from score -1.649655\n",
            "[LightGBM] [Info] Number of positive: 926, number of negative: 4820\n",
            "[LightGBM] [Info] Auto-choosing col-wise multi-threading, the overhead of testing was 0.000758 seconds.\n",
            "You can set `force_col_wise=true` to remove the overhead.\n",
            "[LightGBM] [Info] Total Bins 1747\n",
            "[LightGBM] [Info] Number of data points in the train set: 5746, number of used features: 7\n",
            "[LightGBM] [Info] [binary:BoostFromScore]: pavg=0.161156 -> initscore=-1.649655\n",
            "[LightGBM] [Info] Start training from score -1.649655\n",
            "[LightGBM] [Info] Number of positive: 926, number of negative: 4820\n",
            "[LightGBM] [Info] Auto-choosing col-wise multi-threading, the overhead of testing was 0.000759 seconds.\n",
            "You can set `force_col_wise=true` to remove the overhead.\n",
            "[LightGBM] [Info] Total Bins 1747\n",
            "[LightGBM] [Info] Number of data points in the train set: 5746, number of used features: 7\n",
            "[LightGBM] [Info] [binary:BoostFromScore]: pavg=0.161156 -> initscore=-1.649655\n",
            "[LightGBM] [Info] Start training from score -1.649655\n",
            "[LightGBM] [Info] Number of positive: 926, number of negative: 4820\n",
            "[LightGBM] [Info] Auto-choosing col-wise multi-threading, the overhead of testing was 0.000766 seconds.\n",
            "You can set `force_col_wise=true` to remove the overhead.\n",
            "[LightGBM] [Info] Total Bins 1747\n",
            "[LightGBM] [Info] Number of data points in the train set: 5746, number of used features: 7\n",
            "[LightGBM] [Info] [binary:BoostFromScore]: pavg=0.161156 -> initscore=-1.649655\n",
            "[LightGBM] [Info] Start training from score -1.649655\n",
            "[LightGBM] [Info] Number of positive: 926, number of negative: 4820\n",
            "[LightGBM] [Info] Auto-choosing col-wise multi-threading, the overhead of testing was 0.000783 seconds.\n",
            "You can set `force_col_wise=true` to remove the overhead.\n",
            "[LightGBM] [Info] Total Bins 1747\n",
            "[LightGBM] [Info] Number of data points in the train set: 5746, number of used features: 7\n",
            "[LightGBM] [Info] [binary:BoostFromScore]: pavg=0.161156 -> initscore=-1.649655\n",
            "[LightGBM] [Info] Start training from score -1.649655\n",
            "[LightGBM] [Info] Number of positive: 926, number of negative: 4820\n",
            "[LightGBM] [Info] Auto-choosing col-wise multi-threading, the overhead of testing was 0.000705 seconds.\n",
            "You can set `force_col_wise=true` to remove the overhead.\n",
            "[LightGBM] [Info] Total Bins 1747\n",
            "[LightGBM] [Info] Number of data points in the train set: 5746, number of used features: 7\n",
            "[LightGBM] [Info] [binary:BoostFromScore]: pavg=0.161156 -> initscore=-1.649655\n",
            "[LightGBM] [Info] Start training from score -1.649655\n",
            "Best n_estimators: 200\n",
            "[LightGBM] [Info] Number of positive: 926, number of negative: 4820\n",
            "[LightGBM] [Info] Auto-choosing col-wise multi-threading, the overhead of testing was 0.000759 seconds.\n",
            "You can set `force_col_wise=true` to remove the overhead.\n",
            "[LightGBM] [Info] Total Bins 1747\n",
            "[LightGBM] [Info] Number of data points in the train set: 5746, number of used features: 7\n",
            "[LightGBM] [Info] [binary:BoostFromScore]: pavg=0.161156 -> initscore=-1.649655\n",
            "[LightGBM] [Info] Start training from score -1.649655\n",
            "Test Accuracy: 0.8397703549060542\n"
          ]
        }
      ],
      "source": [
        "X_train, X_temp, y_train, y_temp = train_test_split(X, y, test_size=0.4, random_state=42)\n",
        "X_val, X_test, y_val, y_test = train_test_split(X_temp, y_temp, test_size=0.5, random_state=42)\n",
        "\n",
        "n_estimators_values = [200, 300, 400, 500, 600, 700, 800, 900, 1000]\n",
        "best_n_estimators = None\n",
        "best_accuracy = 0\n",
        "\n",
        "for n_estimators in n_estimators_values:\n",
        "    clf = LGBMClassifier(n_estimators=n_estimators, random_state=42)\n",
        "    clf.fit(X_train, y_train)\n",
        "    y_pred = clf.predict(X_val)\n",
        "    accuracy = accuracy_score(y_val, y_pred)\n",
        "\n",
        "    if accuracy > best_accuracy:\n",
        "        best_accuracy = accuracy\n",
        "        best_n_estimators = n_estimators\n",
        "\n",
        "print(\"Best n_estimators:\", best_n_estimators)\n",
        "\n",
        "finalclf2 = LGBMClassifier(n_estimators=best_n_estimators, random_state=42)\n",
        "finalclf2.fit(X_train, y_train)\n",
        "\n",
        "y_pred_test = finalclf2.predict(X_test)\n",
        "test_accuracy = accuracy_score(y_test, y_pred_test)\n",
        "print(\"Test Accuracy:\", test_accuracy)"
      ]
    },
    {
      "cell_type": "code",
      "execution_count": null,
      "metadata": {
        "colab": {
          "base_uri": "https://localhost:8080/"
        },
        "id": "xPIf2Ce1Y1Ui",
        "outputId": "c39edaab-b036-4b24-cf24-3799d6b3344d"
      },
      "outputs": [
        {
          "name": "stdout",
          "output_type": "stream",
          "text": [
            "[LightGBM] [Info] Number of positive: 926, number of negative: 4820\n",
            "[LightGBM] [Info] Auto-choosing col-wise multi-threading, the overhead of testing was 0.000677 seconds.\n",
            "You can set `force_col_wise=true` to remove the overhead.\n",
            "[LightGBM] [Info] Total Bins 1747\n",
            "[LightGBM] [Info] Number of data points in the train set: 5746, number of used features: 7\n",
            "[LightGBM] [Info] [binary:BoostFromScore]: pavg=0.161156 -> initscore=-1.649655\n",
            "[LightGBM] [Info] Start training from score -1.649655\n",
            "[LightGBM] [Info] Number of positive: 740, number of negative: 3856\n",
            "[LightGBM] [Info] Auto-choosing col-wise multi-threading, the overhead of testing was 0.000388 seconds.\n",
            "You can set `force_col_wise=true` to remove the overhead.\n",
            "[LightGBM] [Info] Total Bins 1741\n",
            "[LightGBM] [Info] Number of data points in the train set: 4596, number of used features: 7\n",
            "[LightGBM] [Info] [binary:BoostFromScore]: pavg=0.161010 -> initscore=-1.650735\n",
            "[LightGBM] [Info] Start training from score -1.650735\n",
            "[LightGBM] [Info] Number of positive: 741, number of negative: 3856\n",
            "[LightGBM] [Info] Auto-choosing col-wise multi-threading, the overhead of testing was 0.000645 seconds.\n",
            "You can set `force_col_wise=true` to remove the overhead.\n",
            "[LightGBM] [Info] Total Bins 1737\n",
            "[LightGBM] [Info] Number of data points in the train set: 4597, number of used features: 7\n",
            "[LightGBM] [Info] [binary:BoostFromScore]: pavg=0.161192 -> initscore=-1.649385\n",
            "[LightGBM] [Info] Start training from score -1.649385\n",
            "[LightGBM] [Info] Number of positive: 741, number of negative: 3856\n",
            "[LightGBM] [Info] Auto-choosing col-wise multi-threading, the overhead of testing was 0.000589 seconds.\n",
            "You can set `force_col_wise=true` to remove the overhead.\n",
            "[LightGBM] [Info] Total Bins 1739\n",
            "[LightGBM] [Info] Number of data points in the train set: 4597, number of used features: 7\n",
            "[LightGBM] [Info] [binary:BoostFromScore]: pavg=0.161192 -> initscore=-1.649385\n",
            "[LightGBM] [Info] Start training from score -1.649385\n",
            "[LightGBM] [Info] Number of positive: 741, number of negative: 3856\n",
            "[LightGBM] [Info] Auto-choosing col-wise multi-threading, the overhead of testing was 0.000624 seconds.\n",
            "You can set `force_col_wise=true` to remove the overhead.\n",
            "[LightGBM] [Info] Total Bins 1737\n",
            "[LightGBM] [Info] Number of data points in the train set: 4597, number of used features: 7\n",
            "[LightGBM] [Info] [binary:BoostFromScore]: pavg=0.161192 -> initscore=-1.649385\n",
            "[LightGBM] [Info] Start training from score -1.649385\n",
            "[LightGBM] [Info] Number of positive: 741, number of negative: 3856\n",
            "[LightGBM] [Info] Auto-choosing col-wise multi-threading, the overhead of testing was 0.000610 seconds.\n",
            "You can set `force_col_wise=true` to remove the overhead.\n",
            "[LightGBM] [Info] Total Bins 1739\n",
            "[LightGBM] [Info] Number of data points in the train set: 4597, number of used features: 7\n",
            "[LightGBM] [Info] [binary:BoostFromScore]: pavg=0.161192 -> initscore=-1.649385\n",
            "[LightGBM] [Info] Start training from score -1.649385\n",
            "Stacking Classifier Accuracy: 0.8491649269311065\n"
          ]
        }
      ],
      "source": [
        "base_learners = [\n",
        "    ('gb', final_gb_classifier),\n",
        "    ('xgb', finalclf),\n",
        "    ('lgb', finalclf2)\n",
        "]\n",
        "\n",
        "meta_learner = LogisticRegression()\n",
        "stacking_clf = StackingClassifier(estimators=base_learners, final_estimator=meta_learner, cv=5, n_jobs=1)\n",
        "stacking_clf.fit(X_train, y_train)\n",
        "stack_y_pred = stacking_clf.predict(X_test)\n",
        "stack_accuracy = accuracy_score(y_test, stack_y_pred)\n",
        "print(\"Stacking Classifier Accuracy:\", stack_accuracy)"
      ]
    },
    {
      "cell_type": "code",
      "execution_count": null,
      "metadata": {
        "colab": {
          "base_uri": "https://localhost:8080/"
        },
        "id": "dbrdFictahzH",
        "outputId": "6b5c4bbd-5440-46fe-b551-b62ca8bd0912"
      },
      "outputs": [
        {
          "name": "stdout",
          "output_type": "stream",
          "text": [
            "      revol.bal  int.rate  log.annual.inc    dti  days.with.cr.line  \\\n",
            "0         28854    0.1189       11.350407  19.48        5639.958333   \n",
            "1         33623    0.1071       11.082143  14.29        2760.000000   \n",
            "2          3511    0.1357       10.373491  11.63        4710.000000   \n",
            "3         33667    0.1008       11.350407   8.10        2699.958333   \n",
            "4          4740    0.1426       11.299732  14.97        4066.000000   \n",
            "...         ...       ...             ...    ...                ...   \n",
            "9573     215372    0.1461       12.180755  10.39       10474.000000   \n",
            "9574        184    0.1253       11.141862   0.21        4380.000000   \n",
            "9575      10036    0.1071       10.596635  13.09        3450.041667   \n",
            "9576          0    0.1600       10.819778  19.18        1800.000000   \n",
            "9577      37879    0.1392       11.264464  16.28        4740.000000   \n",
            "\n",
            "      revol.util  installment  \n",
            "0           52.1       829.10  \n",
            "1           76.7       228.22  \n",
            "2           25.6       366.86  \n",
            "3           73.2       162.34  \n",
            "4           39.5       102.92  \n",
            "...          ...          ...  \n",
            "9573        82.1       344.76  \n",
            "9574         1.1       257.70  \n",
            "9575        82.9        97.81  \n",
            "9576         3.2       351.58  \n",
            "9577        57.0       853.43  \n",
            "\n",
            "[9578 rows x 7 columns]\n",
            "0       0\n",
            "1       0\n",
            "2       0\n",
            "3       0\n",
            "4       0\n",
            "       ..\n",
            "9573    1\n",
            "9574    1\n",
            "9575    1\n",
            "9576    1\n",
            "9577    1\n",
            "Name: not.fully.paid, Length: 9578, dtype: int64\n"
          ]
        }
      ],
      "source": [
        "print(X)\n",
        "print(y)"
      ]
    },
    {
      "cell_type": "code",
      "execution_count": null,
      "metadata": {
        "id": "ecvQ5iI7bzn5"
      },
      "outputs": [],
      "source": [
        "X_train, X_test, y_train, y_test = train_test_split(X, y, test_size=0.3, random_state=2023)"
      ]
    },
    {
      "cell_type": "code",
      "execution_count": null,
      "metadata": {
        "colab": {
          "base_uri": "https://localhost:8080/",
          "height": 75
        },
        "id": "eSfKzdhUbuO7",
        "outputId": "c6bbde39-368e-4334-bb0b-20b208702b46"
      },
      "outputs": [
        {
          "data": {
            "text/html": [
              "<style>#sk-container-id-1 {color: black;background-color: white;}#sk-container-id-1 pre{padding: 0;}#sk-container-id-1 div.sk-toggleable {background-color: white;}#sk-container-id-1 label.sk-toggleable__label {cursor: pointer;display: block;width: 100%;margin-bottom: 0;padding: 0.3em;box-sizing: border-box;text-align: center;}#sk-container-id-1 label.sk-toggleable__label-arrow:before {content: \"▸\";float: left;margin-right: 0.25em;color: #696969;}#sk-container-id-1 label.sk-toggleable__label-arrow:hover:before {color: black;}#sk-container-id-1 div.sk-estimator:hover label.sk-toggleable__label-arrow:before {color: black;}#sk-container-id-1 div.sk-toggleable__content {max-height: 0;max-width: 0;overflow: hidden;text-align: left;background-color: #f0f8ff;}#sk-container-id-1 div.sk-toggleable__content pre {margin: 0.2em;color: black;border-radius: 0.25em;background-color: #f0f8ff;}#sk-container-id-1 input.sk-toggleable__control:checked~div.sk-toggleable__content {max-height: 200px;max-width: 100%;overflow: auto;}#sk-container-id-1 input.sk-toggleable__control:checked~label.sk-toggleable__label-arrow:before {content: \"▾\";}#sk-container-id-1 div.sk-estimator input.sk-toggleable__control:checked~label.sk-toggleable__label {background-color: #d4ebff;}#sk-container-id-1 div.sk-label input.sk-toggleable__control:checked~label.sk-toggleable__label {background-color: #d4ebff;}#sk-container-id-1 input.sk-hidden--visually {border: 0;clip: rect(1px 1px 1px 1px);clip: rect(1px, 1px, 1px, 1px);height: 1px;margin: -1px;overflow: hidden;padding: 0;position: absolute;width: 1px;}#sk-container-id-1 div.sk-estimator {font-family: monospace;background-color: #f0f8ff;border: 1px dotted black;border-radius: 0.25em;box-sizing: border-box;margin-bottom: 0.5em;}#sk-container-id-1 div.sk-estimator:hover {background-color: #d4ebff;}#sk-container-id-1 div.sk-parallel-item::after {content: \"\";width: 100%;border-bottom: 1px solid gray;flex-grow: 1;}#sk-container-id-1 div.sk-label:hover label.sk-toggleable__label {background-color: #d4ebff;}#sk-container-id-1 div.sk-serial::before {content: \"\";position: absolute;border-left: 1px solid gray;box-sizing: border-box;top: 0;bottom: 0;left: 50%;z-index: 0;}#sk-container-id-1 div.sk-serial {display: flex;flex-direction: column;align-items: center;background-color: white;padding-right: 0.2em;padding-left: 0.2em;position: relative;}#sk-container-id-1 div.sk-item {position: relative;z-index: 1;}#sk-container-id-1 div.sk-parallel {display: flex;align-items: stretch;justify-content: center;background-color: white;position: relative;}#sk-container-id-1 div.sk-item::before, #sk-container-id-1 div.sk-parallel-item::before {content: \"\";position: absolute;border-left: 1px solid gray;box-sizing: border-box;top: 0;bottom: 0;left: 50%;z-index: -1;}#sk-container-id-1 div.sk-parallel-item {display: flex;flex-direction: column;z-index: 1;position: relative;background-color: white;}#sk-container-id-1 div.sk-parallel-item:first-child::after {align-self: flex-end;width: 50%;}#sk-container-id-1 div.sk-parallel-item:last-child::after {align-self: flex-start;width: 50%;}#sk-container-id-1 div.sk-parallel-item:only-child::after {width: 0;}#sk-container-id-1 div.sk-dashed-wrapped {border: 1px dashed gray;margin: 0 0.4em 0.5em 0.4em;box-sizing: border-box;padding-bottom: 0.4em;background-color: white;}#sk-container-id-1 div.sk-label label {font-family: monospace;font-weight: bold;display: inline-block;line-height: 1.2em;}#sk-container-id-1 div.sk-label-container {text-align: center;}#sk-container-id-1 div.sk-container {/* jupyter's `normalize.less` sets `[hidden] { display: none; }` but bootstrap.min.css set `[hidden] { display: none !important; }` so we also need the `!important` here to be able to override the default hidden behavior on the sphinx rendered scikit-learn.org. See: https://github.com/scikit-learn/scikit-learn/issues/21755 */display: inline-block !important;position: relative;}#sk-container-id-1 div.sk-text-repr-fallback {display: none;}</style><div id=\"sk-container-id-1\" class=\"sk-top-container\"><div class=\"sk-text-repr-fallback\"><pre>LogisticRegression(max_iter=100000)</pre><b>In a Jupyter environment, please rerun this cell to show the HTML representation or trust the notebook. <br />On GitHub, the HTML representation is unable to render, please try loading this page with nbviewer.org.</b></div><div class=\"sk-container\" hidden><div class=\"sk-item\"><div class=\"sk-estimator sk-toggleable\"><input class=\"sk-toggleable__control sk-hidden--visually\" id=\"sk-estimator-id-1\" type=\"checkbox\" checked><label for=\"sk-estimator-id-1\" class=\"sk-toggleable__label sk-toggleable__label-arrow\">LogisticRegression</label><div class=\"sk-toggleable__content\"><pre>LogisticRegression(max_iter=100000)</pre></div></div></div></div></div>"
            ],
            "text/plain": [
              "LogisticRegression(max_iter=100000)"
            ]
          },
          "execution_count": 22,
          "metadata": {},
          "output_type": "execute_result"
        }
      ],
      "source": [
        "LR = LogisticRegression(max_iter=100000)\n",
        "LR.fit(X_train, y_train)"
      ]
    },
    {
      "cell_type": "code",
      "execution_count": null,
      "metadata": {
        "colab": {
          "base_uri": "https://localhost:8080/"
        },
        "id": "RT9CGjzLbzA8",
        "outputId": "c684dcaa-ffd0-4486-d6bf-240e09a9704e"
      },
      "outputs": [
        {
          "name": "stdout",
          "output_type": "stream",
          "text": [
            "Accuracy: 0.8399443284620738\n"
          ]
        }
      ],
      "source": [
        "y_pred = LR.predict(X_test)\n",
        "accuracy = accuracy_score(y_test, y_pred)\n",
        "\n",
        "print(\"Accuracy:\", accuracy)"
      ]
    },
    {
      "cell_type": "code",
      "execution_count": null,
      "metadata": {
        "colab": {
          "base_uri": "https://localhost:8080/"
        },
        "id": "bs0iSWcFs60T",
        "outputId": "0c03e651-9588-460f-ff7c-e27a71419244"
      },
      "outputs": [
        {
          "name": "stdout",
          "output_type": "stream",
          "text": [
            "Accuracy: 0.8399443284620738\n"
          ]
        }
      ],
      "source": [
        "random_forest_model = LogisticRegression(max_iter=100000)\n",
        "random_forest_model.fit(X_train, y_train)\n",
        "y_pred = random_forest_model.predict(X_test)\n",
        "accuracy = accuracy_score(y_test, y_pred)\n",
        "\n",
        "print(\"Accuracy:\", accuracy)"
      ]
    },
    {
      "cell_type": "code",
      "execution_count": null,
      "metadata": {
        "colab": {
          "base_uri": "https://localhost:8080/"
        },
        "id": "DuYCHSp0drj1",
        "outputId": "ee3ce04a-9fe4-431d-8f8a-13e6d8fb0608"
      },
      "outputs": [
        {
          "name": "stdout",
          "output_type": "stream",
          "text": [
            "Accuracy: 0.7345163535142658\n"
          ]
        }
      ],
      "source": [
        "dt_model = DecisionTreeClassifier()\n",
        "dt_model.fit(X_train, y_train)\n",
        "dt_model_pred_test= dt_model.predict(X_test)\n",
        "accuracy = accuracy_score(y_test, dt_model_pred_test)\n",
        "print(\"Accuracy:\", accuracy)"
      ]
    }
  ],
  "metadata": {
    "colab": {
      "provenance": [],
      "authorship_tag": "ABX9TyPSFg9wuJ/UHZgeAjpW5x+I",
      "include_colab_link": true
    },
    "kernelspec": {
      "display_name": "Python 3",
      "name": "python3"
    },
    "language_info": {
      "name": "python"
    }
  },
  "nbformat": 4,
  "nbformat_minor": 0
}