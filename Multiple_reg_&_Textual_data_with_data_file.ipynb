{
  "nbformat": 4,
  "nbformat_minor": 0,
  "metadata": {
    "colab": {
      "provenance": [],
      "authorship_tag": "ABX9TyNTl1keD4cBfsnVVoUepN8V",
      "include_colab_link": true
    },
    "kernelspec": {
      "name": "python3",
      "display_name": "Python 3"
    },
    "language_info": {
      "name": "python"
    }
  },
  "cells": [
    {
      "cell_type": "markdown",
      "metadata": {
        "id": "view-in-github",
        "colab_type": "text"
      },
      "source": [
        "<a href=\"https://colab.research.google.com/github/Marriyam/TEVTA-AI-ML/blob/main/Multiple_reg_%26_Textual_data_with_data_file.ipynb\" target=\"_parent\"><img src=\"https://colab.research.google.com/assets/colab-badge.svg\" alt=\"Open In Colab\"/></a>"
      ]
    },
    {
      "cell_type": "markdown",
      "source": [
        "## OH Encoding just the \"Car\" feature"
      ],
      "metadata": {
        "id": "SqqDqlMjTbTb"
      }
    },
    {
      "cell_type": "code",
      "execution_count": null,
      "metadata": {
        "colab": {
          "base_uri": "https://localhost:8080/"
        },
        "id": "43XmAOyXl29c",
        "outputId": "72c89426-75e8-4e2f-dffb-f025b2cffdb7"
      },
      "outputs": [
        {
          "output_type": "stream",
          "name": "stdout",
          "text": [
            "Mean Squared Error: 22.443668589659254\n",
            "\n",
            "The model has predicted: 58% value correct.\n",
            "\n",
            "[ 99.          95.          90.57202787  90.         105.\n",
            " 105.          96.6396339  100.23990972  97.86486319  99.66078045\n",
            "  99.         101.          92.66513129  94.          97.\n",
            "  99.66886233 104.32385948 104.          98.82551669 105.3539797\n",
            " 103.90753891 104.86735013 106.479588   101.96282153 108.16894109\n",
            " 101.29981    107.42422694 109.91499261 105.15384788 112.08730597\n",
            " 109.02334868 111.67721103 100.20848692 104.58883455 100.46378754\n",
            " 110.9573436 ]\n"
          ]
        }
      ],
      "source": [
        "import pandas\n",
        "from sklearn import linear_model\n",
        "from sklearn.metrics import mean_squared_error, r2_score\n",
        "\n",
        "\n",
        "cars = pandas.read_csv(\"/content/data (2).csv\")\n",
        "ohe_cars = pandas.get_dummies(cars[['Car']])\n",
        "\n",
        "X = pandas.concat([cars[['Volume', 'Weight']], ohe_cars], axis=1)\n",
        "y = cars['CO2']\n",
        "\n",
        "regr = linear_model.LinearRegression()\n",
        "regr.fit(X,y)\n",
        "\n",
        "predictedCO2 = regr.predict(X)\n",
        "mse = mean_squared_error(y, predictedCO2)\n",
        "r2 = r2_score(y, predictedCO2)\n",
        "\n",
        "print(f\"Mean Squared Error: {mse}\\n\")\n",
        "print(f\"R2 Score: {r2}\")\n",
        "print(predictedCO2)"
      ]
    },
    {
      "cell_type": "markdown",
      "source": [
        "## OH Encoding just the \"Model\" feature\n",
        "\n",
        "=>Incredible results say that this is the most Important and effective feature"
      ],
      "metadata": {
        "id": "Y3M88mYNTqNk"
      }
    },
    {
      "cell_type": "code",
      "source": [
        "import pandas\n",
        "from sklearn import linear_model\n",
        "from sklearn.metrics import mean_squared_error, r2_score\n",
        "\n",
        "\n",
        "cars = pandas.read_csv(\"/content/data (2).csv\")\n",
        "ohe_model = pandas.get_dummies(cars[['Model']])\n",
        "\n",
        "X = pandas.concat([cars[['Volume', 'Weight']], ohe_model], axis=1)\n",
        "y = cars['CO2']\n",
        "\n",
        "regr = linear_model.LinearRegression()\n",
        "regr.fit(X,y)\n",
        "\n",
        "predictedCO2 = regr.predict(X)\n",
        "mse = mean_squared_error(y, predictedCO2)\n",
        "r2 = r2_score(y, predictedCO2)\n",
        "\n",
        "print(f\"Mean Squared Error: {mse}\\n\")\n",
        "print(f\"The model has predicted: {int(r2*100)}% value correct.\\n\")\n",
        "print(predictedCO2)"
      ],
      "metadata": {
        "colab": {
          "base_uri": "https://localhost:8080/"
        },
        "id": "_0OTZtAhtaDN",
        "outputId": "6328b447-b23a-4503-e933-a6ad338c0672"
      },
      "execution_count": null,
      "outputs": [
        {
          "output_type": "stream",
          "name": "stdout",
          "text": [
            "Mean Squared Error: 3.8706775082844314e-28\n",
            "\n",
            "The model has predicted: 100% value correct.\n",
            "\n",
            "[ 99.  95.  95.  90. 105. 105.  90.  92.  98.  99.  99. 101.  99.  94.\n",
            "  97.  97.  99. 104. 104. 105.  94.  99.  99.  99.  99. 102. 104. 114.\n",
            " 109. 114. 115. 117. 104. 108. 109. 120.]\n"
          ]
        }
      ]
    },
    {
      "cell_type": "markdown",
      "source": [
        "## Predicting with One hot encoding of Cars and Models both"
      ],
      "metadata": {
        "id": "DNKTJzkrnr26"
      }
    },
    {
      "cell_type": "code",
      "source": [
        "import pandas\n",
        "from sklearn import linear_model\n",
        "from sklearn.metrics import mean_squared_error, r2_score\n",
        "\n",
        "\n",
        "cars = pandas.read_csv(\"/content/data (2).csv\")\n",
        "ohe_cars = pandas.get_dummies(cars[['Car']])\n",
        "ohe_model=pandas.get_dummies(cars[['Model']])\n",
        "X = pandas.concat([cars[['Volume', 'Weight']], ohe_cars,ohe_model], axis=1)\n",
        "y = cars['CO2']\n",
        "\n",
        "regr = linear_model.LinearRegression()\n",
        "regr.fit(X,y)\n",
        "\n",
        "predictedCO2 = regr.predict(X)\n",
        "mse = mean_squared_error(y, predictedCO2)\n",
        "r2 = r2_score(y, predictedCO2)\n",
        "\n",
        "print(f\"Mean Squared Error: {mse}\\n\")\n",
        "print(f\"The model has predicted: {int(r2*100)}% value correct.\\n\")\n",
        "print(predictedCO2)\n",
        "print(\"\\n\")\n",
        "print(y)"
      ],
      "metadata": {
        "colab": {
          "base_uri": "https://localhost:8080/"
        },
        "id": "dCkX7n_-nNM2",
        "outputId": "bc333524-ca4d-4fb7-f7e1-6af0b7226c2f"
      },
      "execution_count": null,
      "outputs": [
        {
          "output_type": "stream",
          "name": "stdout",
          "text": [
            "Mean Squared Error: 3.181809105360767e-26\n",
            "\n",
            "The model has predicted: 100% value correct.\n",
            "\n",
            "[ 99.  95.  95.  90. 105. 105.  90.  92.  98.  99.  99. 101.  99.  94.\n",
            "  97.  97.  99. 104. 104. 105.  94.  99.  99.  99.  99. 102. 104. 114.\n",
            " 109. 114. 115. 117. 104. 108. 109. 120.]\n",
            "\n",
            "\n",
            "0      99\n",
            "1      95\n",
            "2      95\n",
            "3      90\n",
            "4     105\n",
            "5     105\n",
            "6      90\n",
            "7      92\n",
            "8      98\n",
            "9      99\n",
            "10     99\n",
            "11    101\n",
            "12     99\n",
            "13     94\n",
            "14     97\n",
            "15     97\n",
            "16     99\n",
            "17    104\n",
            "18    104\n",
            "19    105\n",
            "20     94\n",
            "21     99\n",
            "22     99\n",
            "23     99\n",
            "24     99\n",
            "25    102\n",
            "26    104\n",
            "27    114\n",
            "28    109\n",
            "29    114\n",
            "30    115\n",
            "31    117\n",
            "32    104\n",
            "33    108\n",
            "34    109\n",
            "35    120\n",
            "Name: CO2, dtype: int64\n"
          ]
        }
      ]
    },
    {
      "cell_type": "markdown",
      "source": [
        "## Label Encoding just the \"Car\" feature\n",
        "\n",
        "=> Results are bad"
      ],
      "metadata": {
        "id": "FFnYN69NT-pf"
      }
    },
    {
      "cell_type": "code",
      "source": [
        "import pandas as pd\n",
        "from sklearn.model_selection import train_test_split\n",
        "from sklearn.preprocessing import LabelEncoder\n",
        "from sklearn.linear_model import LinearRegression\n",
        "from sklearn.metrics import mean_squared_error, r2_score\n",
        "\n",
        "df = pandas.read_csv(\"/content/data (2).csv\")\n",
        "\n",
        "label_encoder = LabelEncoder()\n",
        "df['Car'] = label_encoder.fit_transform(df['Car'])\n",
        "X = df[['Volume', 'Weight', 'Car']]\n",
        "y = df['CO2']\n",
        "\n",
        "regr = linear_model.LinearRegression()\n",
        "regr.fit(X,y)\n",
        "\n",
        "predictedCO2 = regr.predict(X)\n",
        "mse = mean_squared_error(y, predictedCO2)\n",
        "r2 = r2_score(y, predictedCO2)\n",
        "\n",
        "print(f\"Mean Squared Error: {mse}\\n\")\n",
        "print(f\"The model has predicted: {int(r2*100)}% value correct.\\n\")\n",
        "print(predictedCO2)"
      ],
      "metadata": {
        "colab": {
          "base_uri": "https://localhost:8080/"
        },
        "id": "XKlZL40Kn2BV",
        "outputId": "fb52ef7c-9e01-4e29-fd17-facc9aca6327"
      },
      "execution_count": null,
      "outputs": [
        {
          "output_type": "stream",
          "name": "stdout",
          "text": [
            "Mean Squared Error: 32.92892820411424\n",
            "\n",
            "The model has predicted: 39% value correct.\n",
            "\n",
            "[ 94.29465907  98.15989768  95.07126272  92.03126481 100.17614458\n",
            "  95.59278026  99.66297187 101.82218637  98.90663543  99.47642666\n",
            "  95.22468509  98.09034514  94.98687996 100.99679608 101.76917389\n",
            " 102.8445624  101.3892632  106.44849426 101.31175766 104.57347662\n",
            " 103.50829237 106.77302604 106.52589293 103.70591217 107.53707326\n",
            " 102.63102235 105.36227338 107.26303794 105.27481175 107.27510992\n",
            " 108.46709929 110.21432037 100.68545478 101.5914722  103.45118939\n",
            " 109.9043481 ]\n"
          ]
        }
      ]
    },
    {
      "cell_type": "markdown",
      "source": [
        "## Label Encoding the \"Car\" & \"Model\" features Both\n",
        "\n",
        "=> Results improved slightly"
      ],
      "metadata": {
        "id": "hTvD0fajUE2s"
      }
    },
    {
      "cell_type": "code",
      "source": [
        "import pandas as pd\n",
        "from sklearn.model_selection import train_test_split\n",
        "from sklearn.preprocessing import LabelEncoder\n",
        "from sklearn.linear_model import LinearRegression\n",
        "from sklearn.metrics import mean_squared_error, r2_score\n",
        "\n",
        "df = pandas.read_csv(\"/content/data (2).csv\")\n",
        "\n",
        "label_encoder = LabelEncoder()\n",
        "df['Car'] = label_encoder.fit_transform(df['Car'])\n",
        "df['Model'] = label_encoder.fit_transform(df['Model'])\n",
        "X = df[['Volume', 'Weight', 'Car', 'Model']]\n",
        "y = df['CO2']\n",
        "\n",
        "regr = linear_model.LinearRegression()\n",
        "regr.fit(X,y)\n",
        "\n",
        "predictedCO2 = regr.predict(X)\n",
        "mse = mean_squared_error(y, predictedCO2)\n",
        "r2 = r2_score(y, predictedCO2)\n",
        "\n",
        "print(f\"Mean Squared Error: {mse}\\n\")\n",
        "print(f\"R2 Score: {r2}\\n\")\n",
        "print(f\"The model has predicted: {int(r2*100)}% value correct.\\n\")\n",
        "print(predictedCO2)"
      ],
      "metadata": {
        "colab": {
          "base_uri": "https://localhost:8080/"
        },
        "id": "j9LdmAEXokgR",
        "outputId": "ca7b1455-5c0a-4526-c52c-89c81da7b6ec"
      },
      "execution_count": null,
      "outputs": [
        {
          "output_type": "stream",
          "name": "stdout",
          "text": [
            "Mean Squared Error: 31.632498138456768\n",
            "\n",
            "R2 Score: 0.41450581145917587\n",
            "\n",
            "R2 Score Percentage: 41 %\n",
            "\n",
            "[ 92.27318912  99.50662857  93.91127198  91.39998351  99.85593289\n",
            "  96.42710067  99.04474779  99.77174878 100.2881439   99.46569382\n",
            "  96.32298253  99.20523175  96.2062409  101.44158484 103.00054537\n",
            " 100.87131703 100.02023971 104.46250106 101.9709201  106.03036887\n",
            " 105.16317038 106.96208289 105.74070471 103.88362042 107.34254847\n",
            " 101.69323023 105.25687952 107.04979412 105.59547642 106.1173318\n",
            " 108.18032487 110.5701707  100.73926175 100.34765688 105.21853873\n",
            " 111.66283494]\n"
          ]
        }
      ]
    },
    {
      "cell_type": "markdown",
      "source": [
        "#Now Scaling As Well\n",
        "\n",
        "=> But no Notice-worthy result"
      ],
      "metadata": {
        "id": "z99bce2Irsw1"
      }
    },
    {
      "cell_type": "code",
      "source": [
        "import pandas as pd\n",
        "from sklearn.model_selection import train_test_split\n",
        "from sklearn.preprocessing import LabelEncoder\n",
        "from sklearn.linear_model import LinearRegression\n",
        "from sklearn.metrics import mean_squared_error, r2_score\n",
        "from sklearn.preprocessing import StandardScaler\n",
        "scale = StandardScaler()\n",
        "\n",
        "df = pandas.read_csv(\"/content/data (2).csv\")\n",
        "\n",
        "label_encoder = LabelEncoder()\n",
        "df['Car'] = label_encoder.fit_transform(df['Car'])\n",
        "df['Model'] = label_encoder.fit_transform(df['Model'])\n",
        "X = df[['Volume', 'Weight', 'Car', 'Model']]\n",
        "scaledX = scale.fit_transform(X)\n",
        "\n",
        "y = df['CO2']\n",
        "\n",
        "regr = linear_model.LinearRegression()\n",
        "regr.fit(scaledX,y)\n",
        "\n",
        "predictedCO2 = regr.predict(scaledX)\n",
        "mse = mean_squared_error(y, predictedCO2)\n",
        "r2 = r2_score(y, predictedCO2)\n",
        "\n",
        "print(f\"Mean Squared Error: {mse}\\n\")\n",
        "print(f\"R2 Score: {r2}\\n\")\n",
        "print(f\"The model has predicted: {int(r2*100)}% value correct.\\n\")\n",
        "print(predictedCO2)"
      ],
      "metadata": {
        "colab": {
          "base_uri": "https://localhost:8080/"
        },
        "id": "wi478v_VrU_M",
        "outputId": "12de7e0a-5baa-48fe-d351-20b5e5ecfe64"
      },
      "execution_count": null,
      "outputs": [
        {
          "output_type": "stream",
          "name": "stdout",
          "text": [
            "Mean Squared Error: 31.632498138456754\n",
            "\n",
            "R2 Score: 0.4145058114591761\n",
            "\n",
            "The model has predicted: 41% value correct.\n",
            "\n",
            "[ 92.27318912  99.50662857  93.91127198  91.39998351  99.85593289\n",
            "  96.42710067  99.04474779  99.77174878 100.2881439   99.46569382\n",
            "  96.32298253  99.20523175  96.2062409  101.44158484 103.00054537\n",
            " 100.87131703 100.02023971 104.46250106 101.9709201  106.03036887\n",
            " 105.16317038 106.96208289 105.74070471 103.88362042 107.34254847\n",
            " 101.69323023 105.25687952 107.04979412 105.59547642 106.1173318\n",
            " 108.18032487 110.5701707  100.73926175 100.34765688 105.21853873\n",
            " 111.66283494]\n"
          ]
        }
      ]
    },
    {
      "cell_type": "markdown",
      "source": [
        "## OH Encoding and Using just the \"Model\" feature\n",
        "\n",
        "=> Results are Exceptional"
      ],
      "metadata": {
        "id": "ovwgYNFsUWpy"
      }
    },
    {
      "cell_type": "code",
      "source": [
        "import pandas\n",
        "from sklearn import linear_model\n",
        "from sklearn.metrics import mean_squared_error, r2_score\n",
        "\n",
        "\n",
        "cars = pandas.read_csv(\"/content/data (2).csv\")\n",
        "ohe_model = pandas.get_dummies(cars[['Model']])\n",
        "\n",
        "X = ohe_model #pandas.concat([cars[['Volume', 'Weight']], ohe_model], axis=1)\n",
        "y = cars['CO2']\n",
        "\n",
        "regr = linear_model.LinearRegression()\n",
        "regr.fit(X,y)\n",
        "\n",
        "predictedCO2 = regr.predict(X)\n",
        "mse = mean_squared_error(y, predictedCO2)\n",
        "r2 = r2_score(y, predictedCO2)\n",
        "\n",
        "print(f\"Mean Squared Error: {mse}\\n\")\n",
        "print(f\"The model has predicted: {int(r2*100)}% value correct.\\n\")\n",
        "print(predictedCO2)"
      ],
      "metadata": {
        "colab": {
          "base_uri": "https://localhost:8080/"
        },
        "id": "O5QdwOz70LfA",
        "outputId": "c8cc9dc8-e6dc-4d49-fdea-bacc964981fc"
      },
      "execution_count": null,
      "outputs": [
        {
          "output_type": "stream",
          "name": "stdout",
          "text": [
            "Mean Squared Error: 0.013888888888888888\n",
            "\n",
            "The model has predicted: 99% value correct.\n",
            "\n",
            "[ 99.   95.   95.   90.  105.  105.   90.   92.   98.5  99.   99.  101.\n",
            "  98.5  94.   97.   97.   99.  104.  104.  105.   94.   99.   99.   99.\n",
            "  99.  102.  104.  114.  109.  114.  115.  117.  104.  108.  109.  120. ]\n"
          ]
        }
      ]
    }
  ]
}