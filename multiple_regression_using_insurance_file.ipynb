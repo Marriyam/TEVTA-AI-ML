{
  "nbformat": 4,
  "nbformat_minor": 0,
  "metadata": {
    "colab": {
      "provenance": [],
      "authorship_tag": "ABX9TyMbygnvRKwoqgDYxN/fva99",
      "include_colab_link": true
    },
    "kernelspec": {
      "name": "python3",
      "display_name": "Python 3"
    },
    "language_info": {
      "name": "python"
    }
  },
  "cells": [
    {
      "cell_type": "markdown",
      "metadata": {
        "id": "view-in-github",
        "colab_type": "text"
      },
      "source": [
        "<a href=\"https://colab.research.google.com/github/Marriyam/TEVTA-AI-ML/blob/main/multiple_regression_using_insurance_file.ipynb\" target=\"_parent\"><img src=\"https://colab.research.google.com/assets/colab-badge.svg\" alt=\"Open In Colab\"/></a>"
      ]
    },
    {
      "cell_type": "markdown",
      "source": [
        "###Multiple Regression using ManualMatrix"
      ],
      "metadata": {
        "id": "OhRuo7XW_kCe"
      }
    },
    {
      "cell_type": "code",
      "execution_count": null,
      "metadata": {
        "colab": {
          "base_uri": "https://localhost:8080/"
        },
        "id": "36eIgzyHb8I4",
        "outputId": "cc7739c8-ab8e-4111-a690-6b38430eedb6"
      },
      "outputs": [
        {
          "output_type": "stream",
          "name": "stdout",
          "text": [
            "Predictions: [ 1.56557377  4.99453552  8.31420765 12.12568306]\n"
          ]
        }
      ],
      "source": [
        "import numpy as np\n",
        "from sklearn.linear_model import LinearRegression\n",
        "\n",
        "# Input data in the form of matrix\n",
        "X1 = [1, 2, 3, 4]\n",
        "X2 = [4, 5, 8, 2]\n",
        "Y = [1, 6, 8, 12]\n",
        "\n",
        "X = np.column_stack((X1, X2))\n",
        "\n",
        "# Target variable\n",
        "Y = np.array(Y)\n",
        "\n",
        "model = LinearRegression()\n",
        "model.fit(X, Y)\n",
        "\n",
        "predictions = model.predict(X)\n",
        "print(f\"Predictions: {predictions}\") #correct predicted values\n"
      ]
    },
    {
      "cell_type": "markdown",
      "source": [
        "###Multiple Regression using dataset"
      ],
      "metadata": {
        "id": "LZ7eV_h2_wKA"
      }
    },
    {
      "cell_type": "code",
      "source": [
        "import pandas\n",
        "from sklearn import linear_model\n",
        "import matplotlib.pyplot as plt\n",
        "\n",
        "df = pandas.read_csv(\"/content/data.csv\")\n",
        "\n",
        "X = df[['X1', 'X2']]\n",
        "y = df['Y']\n",
        "\n",
        "regr = linear_model.LinearRegression()\n",
        "regr.fit(X, y)\n",
        "predicted_values = regr.predict(X)\n",
        "\n",
        "print(regr.coef_)\n",
        "print(regr.intercept_)\n",
        "\n"
      ],
      "metadata": {
        "colab": {
          "base_uri": "https://localhost:8080/"
        },
        "id": "90D54FQnco1M",
        "outputId": "4295e3ab-002c-48ee-fabd-e6205a506ad8"
      },
      "execution_count": null,
      "outputs": [
        {
          "output_type": "stream",
          "name": "stdout",
          "text": [
            "[ 3.48360656 -0.05464481]\n",
            "-1.699453551912569\n"
          ]
        }
      ]
    },
    {
      "cell_type": "markdown",
      "source": [
        "###Plotting Multiple Regression"
      ],
      "metadata": {
        "id": "Ea-rtvqw_46p"
      }
    },
    {
      "cell_type": "code",
      "source": [
        "plt.scatter(df['X1'], df['Y'], label='X1 vs Y')  # Plot X1 against Y\n",
        "plt.scatter(df['X2'], df['Y'], label='X2 vs Y')  # Plot X2 against Y\n",
        "\n",
        "plt.xlabel(\"X values\")  # Label the x-axis\n",
        "plt.ylabel(\"Y values\")  # Label the y-axis\n",
        "plt.legend()  # Show the legend\n",
        "plt.show()"
      ],
      "metadata": {
        "colab": {
          "base_uri": "https://localhost:8080/",
          "height": 449
        },
        "id": "G2FrMg1ujvv8",
        "outputId": "677a1c24-0eef-4c29-8bb0-406f6eebac82"
      },
      "execution_count": null,
      "outputs": [
        {
          "output_type": "display_data",
          "data": {
            "text/plain": [
              "<Figure size 640x480 with 1 Axes>"
            ],
            "image/png": "[encoded data removed]"
          },
          "metadata": {}
        }
      ]
    },
    {
      "cell_type": "markdown",
      "source": [
        "##Multiple Regression using Dataset File (insurance.csv)\n",
        "\n",
        "Just using numeric features that"
      ],
      "metadata": {
        "id": "hJoPftXHAD_d"
      }
    },
    {
      "cell_type": "code",
      "source": [
        "import pandas\n",
        "from sklearn import linear_model\n",
        "import matplotlib.pyplot as plt\n",
        "\n",
        "df = pandas.read_csv(\"/content/insurance.csv\")\n",
        "\n",
        "X = df[['age', 'bmi', 'children']]\n",
        "y = df['expenses']\n",
        "\n",
        "regr = linear_model.LinearRegression()\n",
        "regr.fit(X, y)\n",
        "predicted_values = regr.predict(X)\n",
        "\n",
        "predictions = regr.predict(X)\n",
        "print(f\"Predictions: {predictions}\")\n"
      ],
      "metadata": {
        "colab": {
          "base_uri": "https://localhost:8080/"
        },
        "id": "iQRCc5FMbQhK",
        "outputId": "5775b8a3-c769-4752-cf61-f811993c2bb3"
      },
      "execution_count": null,
      "outputs": [
        {
          "output_type": "stream",
          "name": "stdout",
          "text": [
            "Predictions: [ 6907.32613573  9172.28450167 12391.97999719 ...  9660.05779036\n",
            "  6688.95592967 17384.77932889]\n"
          ]
        }
      ]
    },
    {
      "cell_type": "code",
      "source": [
        "from sklearn.metrics import mean_squared_error\n",
        "mse = mean_squared_error(y, predictions)\n",
        "print(f\"Mean Squared Error: {mse}\")"
      ],
      "metadata": {
        "colab": {
          "base_uri": "https://localhost:8080/"
        },
        "id": "N_WG1BAecYCe",
        "outputId": "8c34ca88-7c0b-4f77-977f-4b5f554f734c"
      },
      "execution_count": null,
      "outputs": [
        {
          "output_type": "stream",
          "name": "stdout",
          "text": [
            "Mean Squared Error: 128932346.53522764\n"
          ]
        }
      ]
    },
    {
      "cell_type": "code",
      "source": [
        "import pandas\n",
        "import matplotlib.pyplot as plt\n",
        "from sklearn.model_selection import train_test_split\n",
        "from sklearn.linear_model import LinearRegression\n",
        "from sklearn.metrics import mean_squared_error, r2_score\n",
        "\n",
        "df = pandas.read_csv(\"/content/insurance.csv\")\n",
        "\n",
        "X = df[['age', 'bmi', 'children']]\n",
        "y = df['expenses']\n",
        "\n",
        "regr = LinearRegression()\n",
        "regr.fit(X, y)\n",
        "\n",
        "# Predictions on the test set\n",
        "y_pred = regr.predict(X)\n",
        "\n",
        "# Print predictions\n",
        "print(f\"Test Predictions: {y_pred}\")\n",
        "\n",
        "# Model evaluation\n",
        "print(f\"Coefficients: {regr.coef_}\")\n",
        "print(f\"Intercept: {regr.intercept_}\")\n",
        "print(f\"Mean Squared Error: {mean_squared_error(y, y_pred)}\")\n",
        "print(f\"R2 Score: {r2_score(y, y_pred)}\")\n"
      ],
      "metadata": {
        "colab": {
          "base_uri": "https://localhost:8080/"
        },
        "id": "E0ApzxxidcWf",
        "outputId": "48fc71c3-342d-4ebb-a68d-f6ee73b08181"
      },
      "execution_count": null,
      "outputs": [
        {
          "output_type": "stream",
          "name": "stdout",
          "text": [
            "Test Predictions: [ 6907.32613573  9172.28450167 12391.97999719 ...  9660.05779036\n",
            "  6688.95592967 17384.77932889]\n",
            "Coefficients: [239.96255473 332.52157882 543.04360565]\n",
            "Intercept: -6929.314453097686\n",
            "Mean Squared Error: 128932346.53522764\n",
            "R2 Score: 0.12017256425441947\n"
          ]
        }
      ]
    },
    {
      "cell_type": "markdown",
      "source": [
        "###Now added Categorical Values as well"
      ],
      "metadata": {
        "id": "kD3IIKErPfmC"
      }
    },
    {
      "cell_type": "code",
      "source": [
        "import pandas as pd\n",
        "from sklearn.model_selection import train_test_split\n",
        "from sklearn.preprocessing import OneHotEncoder, StandardScaler\n",
        "from sklearn.compose import ColumnTransformer\n",
        "from sklearn.pipeline import Pipeline\n",
        "from sklearn.linear_model import LinearRegression\n",
        "from sklearn.metrics import mean_squared_error, r2_score\n",
        "\n",
        "# Load dataset\n",
        "df = pd.read_csv(\"/content/insurance.csv\")\n",
        "\n",
        "# Define features and target\n",
        "X = df[['age', 'sex', 'bmi', 'children', 'smoker', 'region']]\n",
        "y = df['expenses']\n",
        "\n",
        "encoder = OneHotEncoder(sparse_output=False, handle_unknown='ignore')\n",
        "encoded_data = encoder.fit_transform(X[['sex', 'smoker', 'region']])\n",
        "encoded_df = pd.DataFrame(encoded_data, columns=encoder.get_feature_names_out(['sex', 'smoker', 'region']))\n",
        "\n",
        "scaler = StandardScaler()\n",
        "numerical_features = ['age', 'bmi', 'children']\n",
        "scaled_numerical = scaler.fit_transform(X[numerical_features])\n",
        "scaled_numerical_df = pd.DataFrame(scaled_numerical, columns=numerical_features, index=X.index)\n",
        "\n",
        "\n",
        "Final_X = pd.concat([scaled_numerical_df, encoded_df], axis=1)\n",
        "\n",
        "model=LinearRegression()\n",
        "model.fit(Final_X, y)\n",
        "\n",
        "# Make predictions\n",
        "y_pred = model.predict(Final_X)\n",
        "\n",
        "# Evaluate the model\n",
        "mse = mean_squared_error(y, y_pred)\n",
        "r2 = r2_score(y, y_pred)\n",
        "\n",
        "print(f\"Mean Squared Error: {mse}\")\n",
        "print(f\"R2 Score: {r2}\")"
      ],
      "metadata": {
        "colab": {
          "base_uri": "https://localhost:8080/"
        },
        "id": "1mY4gK_POttm",
        "outputId": "efb2326d-9cbc-43b1-968b-8f337dd2251c"
      },
      "execution_count": null,
      "outputs": [
        {
          "output_type": "stream",
          "name": "stdout",
          "text": [
            "Mean Squared Error: 36499631.63514606\n",
            "R2 Score: 0.7509284662058436\n"
          ]
        }
      ]
    },
    {
      "cell_type": "markdown",
      "source": [
        "###Splitting in train/test modules\n",
        "\n",
        "Improved relevance because R2 is being calculated on a very small data"
      ],
      "metadata": {
        "id": "MXspwug-PkLl"
      }
    },
    {
      "cell_type": "code",
      "source": [
        "import pandas as pd\n",
        "from sklearn.model_selection import train_test_split\n",
        "from sklearn.preprocessing import OneHotEncoder, StandardScaler\n",
        "from sklearn.compose import ColumnTransformer\n",
        "from sklearn.pipeline import Pipeline\n",
        "from sklearn.linear_model import LinearRegression\n",
        "from sklearn.metrics import mean_squared_error, r2_score\n",
        "\n",
        "# Load dataset\n",
        "df = pd.read_csv(\"/content/insurance.csv\")\n",
        "\n",
        "# Define features and target\n",
        "X = df[['age', 'sex', 'bmi', 'children', 'smoker', 'region']]\n",
        "y = df['expenses']\n",
        "\n",
        "encoder = OneHotEncoder(sparse_output=False, handle_unknown='ignore')\n",
        "encoded_data = encoder.fit_transform(X[['sex', 'smoker', 'region']])\n",
        "encoded_df = pd.DataFrame(encoded_data, columns=encoder.get_feature_names_out(['sex', 'smoker', 'region']))\n",
        "\n",
        "scaler = StandardScaler()\n",
        "numerical_features = ['age', 'bmi', 'children']\n",
        "scaled_numerical = scaler.fit_transform(X[numerical_features])\n",
        "scaled_numerical_df = pd.DataFrame(scaled_numerical, columns=numerical_features, index=X.index)\n",
        "\n",
        "\n",
        "Final_X = pd.concat([scaled_numerical_df, encoded_df], axis=1)\n",
        "\n",
        "X_train, X_test, y_train, y_test = train_test_split(Final_X, y, test_size=0.2, random_state=42)  # Adjust test_size and random_state as needed\n",
        "\n",
        "# Create and train the model\n",
        "model = LinearRegression()\n",
        "model.fit(X_train, y_train)  # Train on the training data\n",
        "\n",
        "# Make predictions on the test set\n",
        "y_pred = model.predict(X_test)\n",
        "\n",
        "# Evaluate the model\n",
        "mse = mean_squared_error(y_test, y_pred)\n",
        "r2 = r2_score(y_test, y_pred)\n",
        "\n",
        "print(f\"Mean Squared Error: {mse}\")\n",
        "print(f\"R2 Score: {r2}\")"
      ],
      "metadata": {
        "colab": {
          "base_uri": "https://localhost:8080/"
        },
        "outputId": "45cf4c40-7b86-40cc-c78d-42918f21710a",
        "id": "6Punyeq4PXQc"
      },
      "execution_count": null,
      "outputs": [
        {
          "output_type": "stream",
          "name": "stdout",
          "text": [
            "Mean Squared Error: 33600065.35507783\n",
            "R2 Score: 0.7835726930039905\n"
          ]
        }
      ]
    },
    {
      "cell_type": "markdown",
      "source": [
        "###Printing Encoded Data"
      ],
      "metadata": {
        "id": "S6ogNcZiQMEO"
      }
    },
    {
      "cell_type": "code",
      "source": [
        "print(\"One-hot encoded columns:\")\n",
        "print(encoded_df)"
      ],
      "metadata": {
        "colab": {
          "base_uri": "https://localhost:8080/"
        },
        "id": "pMAaN8D3mZxY",
        "outputId": "936aaae0-c72e-4733-e9ee-29d5f9915318"
      },
      "execution_count": null,
      "outputs": [
        {
          "output_type": "stream",
          "name": "stdout",
          "text": [
            "One-hot encoded columns:\n",
            "      sex_female  sex_male  smoker_no  smoker_yes  region_northeast  \\\n",
            "0            1.0       0.0        0.0         1.0               0.0   \n",
            "1            0.0       1.0        1.0         0.0               0.0   \n",
            "2            0.0       1.0        1.0         0.0               0.0   \n",
            "3            0.0       1.0        1.0         0.0               0.0   \n",
            "4            0.0       1.0        1.0         0.0               0.0   \n",
            "...          ...       ...        ...         ...               ...   \n",
            "1333         0.0       1.0        1.0         0.0               0.0   \n",
            "1334         1.0       0.0        1.0         0.0               1.0   \n",
            "1335         1.0       0.0        1.0         0.0               0.0   \n",
            "1336         1.0       0.0        1.0         0.0               0.0   \n",
            "1337         1.0       0.0        0.0         1.0               0.0   \n",
            "\n",
            "      region_northwest  region_southeast  region_southwest  \n",
            "0                  0.0               0.0               1.0  \n",
            "1                  0.0               1.0               0.0  \n",
            "2                  0.0               1.0               0.0  \n",
            "3                  1.0               0.0               0.0  \n",
            "4                  1.0               0.0               0.0  \n",
            "...                ...               ...               ...  \n",
            "1333               1.0               0.0               0.0  \n",
            "1334               0.0               0.0               0.0  \n",
            "1335               0.0               1.0               0.0  \n",
            "1336               0.0               0.0               1.0  \n",
            "1337               1.0               0.0               0.0  \n",
            "\n",
            "[1338 rows x 8 columns]\n"
          ]
        }
      ]
    },
    {
      "cell_type": "markdown",
      "source": [
        "###Predicting using Label Encoder\n",
        "\n",
        "With split data"
      ],
      "metadata": {
        "id": "FPtli5LZQR4y"
      }
    },
    {
      "cell_type": "code",
      "source": [
        "import pandas as pd\n",
        "from sklearn.model_selection import train_test_split\n",
        "from sklearn.preprocessing import LabelEncoder\n",
        "from sklearn.linear_model import LinearRegression\n",
        "from sklearn.metrics import mean_squared_error, r2_score\n",
        "\n",
        "# Load dataset\n",
        "df = pd.read_csv(\"/content/insurance.csv\")\n",
        "\n",
        "# Label encode categorical features\n",
        "label_encoder = LabelEncoder()\n",
        "df['sex'] = label_encoder.fit_transform(df['sex'])\n",
        "df['smoker'] = label_encoder.fit_transform(df['smoker'])\n",
        "df['region'] = label_encoder.fit_transform(df['region'])\n",
        "\n",
        "X = df[['age', 'sex', 'bmi', 'children', 'smoker', 'region']]\n",
        "y = df['expenses']\n",
        "\n",
        "X_train, X_test, y_train, y_test = train_test_split(X, y, test_size=0.2, random_state=42)\n",
        "\n",
        "model = LinearRegression()\n",
        "model.fit(X_train, y_train)\n",
        "\n",
        "y_pred = model.predict(X_test)\n",
        "\n",
        "# Evaluating model\n",
        "mse = mean_squared_error(y_test, y_pred)\n",
        "r2 = r2_score(y_test, y_pred)\n",
        "\n",
        "print(f\"Mean Squared Error: {mse}\")\n",
        "print(f\"R2 Score: {r2}\")\n",
        "print(df[['age', 'sex', 'bmi', 'children', 'smoker']])"
      ],
      "metadata": {
        "colab": {
          "base_uri": "https://localhost:8080/"
        },
        "id": "-vjbmRo1fWGW",
        "outputId": "d6dae662-e450-4fda-e02b-6afa92b5e87b"
      },
      "execution_count": null,
      "outputs": [
        {
          "output_type": "stream",
          "name": "stdout",
          "text": [
            "Mean Squared Error: 33639075.08997808\n",
            "R2 Score: 0.7833214205203847\n",
            "      age  sex   bmi  children  smoker\n",
            "0      19    0  27.9         0       1\n",
            "1      18    1  33.8         1       0\n",
            "2      28    1  33.0         3       0\n",
            "3      33    1  22.7         0       0\n",
            "4      32    1  28.9         0       0\n",
            "...   ...  ...   ...       ...     ...\n",
            "1333   50    1  31.0         3       0\n",
            "1334   18    0  31.9         0       0\n",
            "1335   18    0  36.9         0       0\n",
            "1336   21    0  25.8         0       0\n",
            "1337   61    0  29.1         0       1\n",
            "\n",
            "[1338 rows x 5 columns]\n"
          ]
        }
      ]
    },
    {
      "cell_type": "markdown",
      "source": [
        "Without Split Data"
      ],
      "metadata": {
        "id": "pSiyz0xdQqe2"
      }
    },
    {
      "cell_type": "code",
      "source": [
        "import pandas as pd\n",
        "from sklearn.model_selection import train_test_split\n",
        "from sklearn.preprocessing import LabelEncoder\n",
        "from sklearn.linear_model import LinearRegression\n",
        "from sklearn.metrics import mean_squared_error, r2_score\n",
        "\n",
        "# Load dataset\n",
        "df = pd.read_csv(\"/content/insurance.csv\")\n",
        "\n",
        "# Label encode categorical features\n",
        "label_encoder = LabelEncoder()\n",
        "df['sex'] = label_encoder.fit_transform(df['sex'])\n",
        "df['smoker'] = label_encoder.fit_transform(df['smoker'])\n",
        "df['region'] = label_encoder.fit_transform(df['region'])\n",
        "\n",
        "X = df[['age', 'sex', 'bmi', 'children', 'smoker', 'region']]\n",
        "y = df['expenses']\n",
        "\n",
        "model = LinearRegression()\n",
        "model.fit(X, y)\n",
        "\n",
        "y_pred = model.predict(X)\n",
        "\n",
        "# Evaluating model\n",
        "mse = mean_squared_error(y, y_pred)\n",
        "r2 = r2_score(y, y_pred)\n",
        "\n",
        "print(f\"Mean Squared Error: {mse}\")\n",
        "print(f\"R2 Score: {r2}\")\n",
        "print(df[['age', 'sex', 'bmi', 'children', 'smoker']])"
      ],
      "metadata": {
        "colab": {
          "base_uri": "https://localhost:8080/"
        },
        "id": "zEwQdbPYQvd2",
        "outputId": "fc96a1d0-c32c-4ec5-c8ad-ea0198895a94"
      },
      "execution_count": null,
      "outputs": [
        {
          "output_type": "stream",
          "name": "stdout",
          "text": [
            "Mean Squared Error: 36525536.8689183\n",
            "R2 Score: 0.7507516902763371\n",
            "      age  sex   bmi  children  smoker\n",
            "0      19    0  27.9         0       1\n",
            "1      18    1  33.8         1       0\n",
            "2      28    1  33.0         3       0\n",
            "3      33    1  22.7         0       0\n",
            "4      32    1  28.9         0       0\n",
            "...   ...  ...   ...       ...     ...\n",
            "1333   50    1  31.0         3       0\n",
            "1334   18    0  31.9         0       0\n",
            "1335   18    0  36.9         0       0\n",
            "1336   21    0  25.8         0       0\n",
            "1337   61    0  29.1         0       1\n",
            "\n",
            "[1338 rows x 5 columns]\n"
          ]
        }
      ]
    },
    {
      "cell_type": "markdown",
      "source": [
        "###Scaling Values\n",
        "\n",
        "Didn't bring much change"
      ],
      "metadata": {
        "id": "vCo-A2KSR_fS"
      }
    },
    {
      "cell_type": "code",
      "source": [
        "import pandas\n",
        "import matplotlib.pyplot as plt\n",
        "from sklearn.model_selection import train_test_split\n",
        "from sklearn.linear_model import LinearRegression\n",
        "from sklearn.metrics import mean_squared_error, r2_score\n",
        "from sklearn.preprocessing import StandardScaler\n",
        "scale = StandardScaler()\n",
        "\n",
        "df = pandas.read_csv(\"/content/insurance.csv\")\n",
        "\n",
        "X = df[['age', 'bmi', 'children']]\n",
        "y = df['expenses']\n",
        "scaledX = scale.fit_transform(X)\n",
        "\n",
        "X_train, X_test, y_train, y_test = train_test_split(scaledX, y, test_size=0.2, random_state=42)\n",
        "\n",
        "regr = LinearRegression()\n",
        "regr.fit(X_train, y_train)\n",
        "\n",
        "# Predictions on the test set\n",
        "y_pred = regr.predict(X_test)\n",
        "print(f\"Test Predictions: {y_pred}\")\n",
        "\n",
        "# print(f\"Coefficients: {regr.coef_}\")\n",
        "# print(f\"Intercept: {regr.intercept_}\")\n",
        "print(f\"Mean Squared Error: {mean_squared_error(y_test, y_pred)}\")\n",
        "print(f\"R2 Score: {r2_score(y_test, y_pred)}\")\n"
      ],
      "metadata": {
        "colab": {
          "base_uri": "https://localhost:8080/"
        },
        "id": "DIDkSeYLezTr",
        "outputId": "00b76fc6-4622-4233-add1-65adc45af88c"
      },
      "execution_count": null,
      "outputs": [
        {
          "output_type": "stream",
          "name": "stdout",
          "text": [
            "Test Predictions: [13310.79097626 11794.15847363 16943.29747396 14261.24139628\n",
            "  8673.83564095 16207.25649735  5546.95026332 20602.41866055\n",
            "  5803.7236314  15921.36345381 10297.17358426 14224.18027718\n",
            " 10679.4131425  19816.45265229 20717.45424803 18309.51336762\n",
            " 20015.02669105 16981.02430109 13932.79492742 12308.03806382\n",
            " 10154.01688337 15330.92831553  8174.86457005 11963.92986341\n",
            " 15942.50166403 16665.38589565 18788.09944056 11630.87795212\n",
            " 14217.95058625  7854.34371729 14697.81222612 17028.18316885\n",
            " 10113.2310599   8833.52510962 10150.292179   17040.6425507\n",
            "  7849.12841596 13869.38029677 13926.56523649 14087.3249439\n",
            " 10393.09974071  9733.09195753 18701.44614381 15373.95794823\n",
            " 14188.13354767 16602.65280058 10807.58964742  9160.27565331\n",
            " 17025.32950072 14611.56346007 19849.45621301  8184.89064202\n",
            " 17032.64525792  6523.75419489 17672.33971983 16709.69109528\n",
            "  8972.88542947 13844.37402882 17681.3514022  16644.24768543\n",
            " 18352.54300031 15954.27951031 21031.67373318 12582.0815844\n",
            " 15625.16733342  9227.8911957   9306.47552298 15818.45439417\n",
            "  7434.71018593 11864.13564923 15160.80824419 15893.31401709\n",
            " 15540.61449254 14348.22754704 16817.81545626 11760.89373557\n",
            " 12362.70218944 14778.30750861 12153.0876891  14040.5147577\n",
            "  9360.26861236 16435.31472068 11971.5226255  12280.24980443\n",
            " 16785.21642623 15483.0966988  12692.23472457 16919.37727229\n",
            " 14698.89829239 19432.18431486 21354.29504181 15645.97268962\n",
            " 13488.2268048  11018.9717496  13624.73345652 14756.41608614\n",
            " 11108.73989181  9260.47439818 10064.32041784 10538.02404346\n",
            " 10500.96292436  7675.89349915 16324.05968669 19928.04054029\n",
            " 15216.64594031 10114.24544949 14919.62493097 12519.42016601\n",
            "  4993.57624414 13748.11501835  9073.01249766 15638.97395888\n",
            " 18011.89832693 12548.13531076 15493.12277077  9823.87448933\n",
            " 16625.89146666 13368.30877    13407.80319899  8623.22907371\n",
            " 13013.8416436  15421.71084734 19246.82287021 11108.05835623\n",
            "  9092.73178759 15055.79872868 15765.47036618 15160.47539017\n",
            " 18600.63754004 12883.21600125 10545.33980066 14694.01584508\n",
            " 14662.85156289 16541.6714798  13387.75105504 19796.06765433\n",
            " 12861.74493701 13118.5183051  16553.79800765 12281.00301669\n",
            " 10762.95159378 16402.38283664 11383.18794309 18947.44022767\n",
            "  7935.7817127  14326.75648281 11427.1602887  10391.1426382\n",
            " 18924.20156158 12303.1556165  19531.97852904  8292.68214898\n",
            " 11513.46490388 12672.18258063 16325.07407629 12916.14788529\n",
            " 18231.61057592 14585.96316078  9073.01249766 14171.87778477\n",
            " 18375.70998972  7174.82197238 17637.65606148  7095.15157883\n",
            " 11513.06037318 16640.37962771 20315.16254585 16828.59474049\n",
            " 14589.07800624  9465.95966346 12332.97265508 13851.35693201\n",
            " 16680.96012297  9890.07111144  7739.3081298  13255.37363838\n",
            "  7276.71664243 21467.3018501   7979.75405831 14167.4156957\n",
            " 16988.68873986  4655.71356221 11326.01883091 13146.90059584\n",
            "  9444.41692254 10243.17516667 10679.4131425   9704.70966679\n",
            " 19875.0565123  15189.61089317 12976.70884782  7554.96107475\n",
            "  6441.98334547 13913.00396081 20460.34802593 16468.91231276\n",
            "  6775.64511566 16528.12603167  6590.28367101 13420.68293909\n",
            "  6992.24251918 14460.90150132 16320.19162897  8270.45787249\n",
            "  7761.46072962  8077.85234732 13686.80084357  7500.15359578\n",
            " 17835.88141868  6869.20963891 14672.28360351 14996.93369132\n",
            " 21149.14263055  8622.21468412 12140.62830725  9771.23914291\n",
            " 11129.87810203 17829.24719705 15262.03720621 13533.95092472\n",
            " 10379.34896438 16720.12169795 19193.76716554 17160.48890883\n",
            "  9402.5450328  10593.84591203  4914.92024018  8241.39404617\n",
            " 15668.45814345 20742.65001663 10778.5258211  11146.55422317\n",
            "  9579.57633065 12607.42070636 11433.81033787 16958.87170128\n",
            " 11013.07491269 14482.37256556 17704.85124563  9968.04557982\n",
            " 13199.62344649 13205.43277918 10863.07866197 10117.02744094\n",
            "  6445.09819093  9952.80420651 10323.52709581 11973.62308137\n",
            " 23731.26114069  3883.71336032  8129.47330415 16130.29641856\n",
            "  8631.22636649 13834.7683151   9203.97099403 10661.38977774\n",
            " 16725.68568084 11447.61696334 12168.74942065 12547.04924449\n",
            " 13934.82370661 14351.76275075  9541.50082195 19450.27935629\n",
            " 15718.73185667 12133.71708074 21555.30239046 17065.57714197]\n",
            "Mean Squared Error: 131188609.80827309\n",
            "R2 Score: 0.1549779076526725\n"
          ]
        }
      ]
    }
  ]
}